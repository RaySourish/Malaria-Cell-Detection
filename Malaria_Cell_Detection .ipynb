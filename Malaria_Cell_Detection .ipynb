{
  "cells": [
    {
      "cell_type": "code",
      "execution_count": 377,
      "metadata": {
        "id": "JyWHy4tJa935"
      },
      "outputs": [],
      "source": [
        "import tensorflow as tf\n",
        "from tensorflow.keras import Sequential\n",
        "from tensorflow.keras.layers import Conv2D,MaxPool2D,Dropout,Flatten,Dense,BatchNormalization\n",
        "from tensorflow.keras.preprocessing.image import ImageDataGenerator\n",
        "from tensorflow.keras.callbacks import EarlyStopping"
      ]
    },
    {
      "cell_type": "code",
      "execution_count": 378,
      "metadata": {
        "colab": {
          "base_uri": "https://localhost:8080/"
        },
        "id": "MdUnOZ3Znxy3",
        "outputId": "b7866ecb-0080-4a1d-8176-d03d5edee038"
      },
      "outputs": [
        {
          "name": "stdout",
          "output_type": "stream",
          "text": [
            "Drive already mounted at /content/drive; to attempt to forcibly remount, call drive.mount(\"/content/drive\", force_remount=True).\n"
          ]
        }
      ],
      "source": [
        "from google.colab import drive\n",
        "drive.mount('/content/drive')"
      ]
    },
    {
      "cell_type": "code",
      "execution_count": 379,
      "metadata": {
        "id": "kmfOINY-pB1s"
      },
      "outputs": [],
      "source": [
        "import numpy as np\n",
        "import pandas as pd\n",
        "import matplotlib.pyplot as plt"
      ]
    },
    {
      "cell_type": "code",
      "execution_count": 380,
      "metadata": {
        "colab": {
          "base_uri": "https://localhost:8080/"
        },
        "id": "3bSly1OJqqJH",
        "outputId": "e4af361f-f2e9-4235-9e44-c1ea59326ae3"
      },
      "outputs": [
        {
          "name": "stdout",
          "output_type": "stream",
          "text": [
            "Looking in indexes: https://pypi.org/simple, https://us-python.pkg.dev/colab-wheels/public/simple/\n",
            "Requirement already satisfied: opencv-python in /usr/local/lib/python3.10/dist-packages (4.7.0.72)\n",
            "Requirement already satisfied: numpy>=1.21.2 in /usr/local/lib/python3.10/dist-packages (from opencv-python) (1.22.4)\n"
          ]
        }
      ],
      "source": [
        "!pip install opencv-python\n"
      ]
    },
    {
      "cell_type": "code",
      "execution_count": 381,
      "metadata": {
        "id": "Sx48_Tpdra4H"
      },
      "outputs": [],
      "source": [
        "import cv2"
      ]
    },
    {
      "cell_type": "code",
      "execution_count": 382,
      "metadata": {
        "id": "UxH5C7mfq0Xs"
      },
      "outputs": [],
      "source": [
        "pimg = '/content/drive/MyDrive/Dataset/Train/Parasite/C133P94ThinF_IMG_20151004_155721_cell_111.png'\n",
        "uimg = '/content/drive/MyDrive/Dataset/Train/Uninfected/C1_thinF_IMG_20150604_104722_cell_115.png'"
      ]
    },
    {
      "cell_type": "code",
      "execution_count": 383,
      "metadata": {
        "colab": {
          "base_uri": "https://localhost:8080/"
        },
        "id": "RcYt-nhyruc0",
        "outputId": "c660558c-ec63-4859-ff1b-a2963d7855a4"
      },
      "outputs": [
        {
          "data": {
            "text/plain": [
              "array([[[0, 0, 0],\n",
              "        [0, 0, 0],\n",
              "        [0, 0, 0],\n",
              "        ...,\n",
              "        [0, 0, 0],\n",
              "        [0, 0, 0],\n",
              "        [0, 0, 0]],\n",
              "\n",
              "       [[0, 0, 0],\n",
              "        [0, 0, 0],\n",
              "        [0, 0, 0],\n",
              "        ...,\n",
              "        [0, 0, 0],\n",
              "        [0, 0, 0],\n",
              "        [0, 0, 0]],\n",
              "\n",
              "       [[0, 0, 0],\n",
              "        [0, 0, 0],\n",
              "        [0, 0, 0],\n",
              "        ...,\n",
              "        [0, 0, 0],\n",
              "        [0, 0, 0],\n",
              "        [0, 0, 0]],\n",
              "\n",
              "       ...,\n",
              "\n",
              "       [[0, 0, 0],\n",
              "        [0, 0, 0],\n",
              "        [0, 0, 0],\n",
              "        ...,\n",
              "        [0, 0, 0],\n",
              "        [0, 0, 0],\n",
              "        [0, 0, 0]],\n",
              "\n",
              "       [[0, 0, 0],\n",
              "        [0, 0, 0],\n",
              "        [0, 0, 0],\n",
              "        ...,\n",
              "        [0, 0, 0],\n",
              "        [0, 0, 0],\n",
              "        [0, 0, 0]],\n",
              "\n",
              "       [[0, 0, 0],\n",
              "        [0, 0, 0],\n",
              "        [0, 0, 0],\n",
              "        ...,\n",
              "        [0, 0, 0],\n",
              "        [0, 0, 0],\n",
              "        [0, 0, 0]]], dtype=uint8)"
            ]
          },
          "execution_count": 383,
          "metadata": {},
          "output_type": "execute_result"
        }
      ],
      "source": [
        "image = cv2.imread(pimg)\n",
        "image"
      ]
    },
    {
      "cell_type": "code",
      "execution_count": 384,
      "metadata": {
        "colab": {
          "base_uri": "https://localhost:8080/",
          "height": 469
        },
        "id": "ECc17WCxsGN4",
        "outputId": "facb67c8-8a78-459c-b032-8e4f17c5fa77"
      },
      "outputs": [
        {
          "data": {
            "text/plain": [
              "Text(0.5, 1.0, 'Affected')"
            ]
          },
          "execution_count": 384,
          "metadata": {},
          "output_type": "execute_result"
        },
        {
          "data": {
            "image/png": "[encoded data removed]",
            "text/plain": [
              "<Figure size 640x480 with 1 Axes>"
            ]
          },
          "metadata": {},
          "output_type": "display_data"
        }
      ],
      "source": [
        "plt.imshow(image)\n",
        "plt.title('Affected')"
      ]
    },
    {
      "cell_type": "code",
      "execution_count": 385,
      "metadata": {
        "colab": {
          "base_uri": "https://localhost:8080/",
          "height": 469
        },
        "id": "E2O3MyWsscWi",
        "outputId": "9e144b23-1c9c-4424-e68f-e9cf21a54844"
      },
      "outputs": [
        {
          "data": {
            "text/plain": [
              "Text(0.5, 1.0, 'Uninfected')"
            ]
          },
          "execution_count": 385,
          "metadata": {},
          "output_type": "execute_result"
        },
        {
          "data": {
            "image/png": "[encoded data removed]",
            "text/plain": [
              "<Figure size 640x480 with 1 Axes>"
            ]
          },
          "metadata": {},
          "output_type": "display_data"
        }
      ],
      "source": [
        "plt.imshow(cv2.imread(uimg))\n",
        "plt.title('Uninfected')"
      ]
    },
    {
      "cell_type": "code",
      "execution_count": 386,
      "metadata": {
        "colab": {
          "base_uri": "https://localhost:8080/"
        },
        "id": "EAcW6iAYtDbQ",
        "outputId": "26cb8a36-2425-43c3-940f-b4a8326b9fb9"
      },
      "outputs": [
        {
          "data": {
            "text/plain": [
              "2"
            ]
          },
          "execution_count": 386,
          "metadata": {},
          "output_type": "execute_result"
        }
      ],
      "source": [
        "import os\n",
        "directory = '/content/drive/MyDrive/Dataset'\n",
        "files = os.listdir(directory)\n",
        "len(files)"
      ]
    },
    {
      "cell_type": "code",
      "execution_count": 387,
      "metadata": {
        "id": "hL81uZjKzWlz"
      },
      "outputs": [],
      "source": [
        "train_path = directory +'/Train'\n",
        "test_path = directory + '/Test'"
      ]
    },
    {
      "cell_type": "code",
      "execution_count": 388,
      "metadata": {
        "colab": {
          "base_uri": "https://localhost:8080/",
          "height": 35
        },
        "id": "USzV1mRgvsWt",
        "outputId": "f0df9a79-b3fb-42ac-fb04-c8e238fb50e7"
      },
      "outputs": [
        {
          "data": {
            "application/vnd.google.colaboratory.intrinsic+json": {
              "type": "string"
            },
            "text/plain": [
              "'C133P94ThinF_IMG_20151004_155721_cell_114.png'"
            ]
          },
          "execution_count": 388,
          "metadata": {},
          "output_type": "execute_result"
        }
      ],
      "source": [
        "os.listdir(train_path+'/Parasite')[0]"
      ]
    },
    {
      "cell_type": "code",
      "execution_count": 389,
      "metadata": {
        "colab": {
          "base_uri": "https://localhost:8080/"
        },
        "id": "ynuihuKTyvtl",
        "outputId": "e97f88aa-9b8c-48c2-c33f-cff8ad277e45"
      },
      "outputs": [
        {
          "data": {
            "text/plain": [
              "['Train', 'Test']"
            ]
          },
          "execution_count": 389,
          "metadata": {},
          "output_type": "execute_result"
        }
      ],
      "source": [
        "os.listdir(directory)"
      ]
    },
    {
      "cell_type": "code",
      "execution_count": 390,
      "metadata": {
        "colab": {
          "base_uri": "https://localhost:8080/"
        },
        "id": "ajiFmxid0Bqx",
        "outputId": "da746550-435b-4038-9991-50d679753c41"
      },
      "outputs": [
        {
          "data": {
            "text/plain": [
              "220"
            ]
          },
          "execution_count": 390,
          "metadata": {},
          "output_type": "execute_result"
        }
      ],
      "source": [
        "len(os.listdir(train_path+'/Parasite'))"
      ]
    },
    {
      "cell_type": "code",
      "execution_count": 391,
      "metadata": {
        "colab": {
          "base_uri": "https://localhost:8080/"
        },
        "id": "rQ0VH6mN0MQ-",
        "outputId": "7b8a1aaf-ad89-40fe-a1dc-5a4d0ee27866"
      },
      "outputs": [
        {
          "data": {
            "text/plain": [
              "196"
            ]
          },
          "execution_count": 391,
          "metadata": {},
          "output_type": "execute_result"
        }
      ],
      "source": [
        "len(os.listdir(train_path+'/Uninfected'))"
      ]
    },
    {
      "cell_type": "code",
      "execution_count": 392,
      "metadata": {
        "colab": {
          "base_uri": "https://localhost:8080/"
        },
        "id": "Gy4QN4dr0XZt",
        "outputId": "66c62ec9-4c0e-47b7-9984-1ad3dea49647"
      },
      "outputs": [
        {
          "data": {
            "text/plain": [
              "101"
            ]
          },
          "execution_count": 392,
          "metadata": {},
          "output_type": "execute_result"
        }
      ],
      "source": [
        "len(os.listdir(test_path+'/Parasite'))"
      ]
    },
    {
      "cell_type": "code",
      "execution_count": 393,
      "metadata": {
        "colab": {
          "base_uri": "https://localhost:8080/"
        },
        "id": "MUbylQa80hEn",
        "outputId": "10cdd9bf-9836-4116-bda7-c4f125b5c120"
      },
      "outputs": [
        {
          "data": {
            "text/plain": [
              "43"
            ]
          },
          "execution_count": 393,
          "metadata": {},
          "output_type": "execute_result"
        }
      ],
      "source": [
        "len(os.listdir(test_path+'/Uninfected'))"
      ]
    },
    {
      "cell_type": "code",
      "execution_count": 394,
      "metadata": {
        "id": "vxgQVRdm3Xtq"
      },
      "outputs": [],
      "source": [
        "dim1=[]\n",
        "dim2=[]\n",
        "\n",
        "for image_filename in os.listdir(test_path+'/Uninfected'):\n",
        "    img=cv2.imread(test_path+'/Uninfected/'+image_filename)\n",
        "    d1,d2,colors=img.shape\n",
        "    dim1.append(d1)\n",
        "    dim2.append(d2)"
      ]
    },
    {
      "cell_type": "code",
      "execution_count": 395,
      "metadata": {
        "colab": {
          "base_uri": "https://localhost:8080/"
        },
        "id": "1bIeBV_Z38eV",
        "outputId": "4ca436f7-1afe-4f3c-890e-8add87997666"
      },
      "outputs": [
        {
          "data": {
            "text/plain": [
              "[112,\n",
              " 130,\n",
              " 115,\n",
              " 130,\n",
              " 121,\n",
              " 127,\n",
              " 136,\n",
              " 106,\n",
              " 115,\n",
              " 136,\n",
              " 100,\n",
              " 115,\n",
              " 130,\n",
              " 112,\n",
              " 115,\n",
              " 97,\n",
              " 130,\n",
              " 121,\n",
              " 142,\n",
              " 106,\n",
              " 109,\n",
              " 112,\n",
              " 127,\n",
              " 106,\n",
              " 127,\n",
              " 124,\n",
              " 133,\n",
              " 112,\n",
              " 124,\n",
              " 130,\n",
              " 121,\n",
              " 118,\n",
              " 100,\n",
              " 112,\n",
              " 100,\n",
              " 103,\n",
              " 124,\n",
              " 130,\n",
              " 115,\n",
              " 121,\n",
              " 124,\n",
              " 154,\n",
              " 145]"
            ]
          },
          "execution_count": 395,
          "metadata": {},
          "output_type": "execute_result"
        }
      ],
      "source": [
        "dim1\n",
        "\n"
      ]
    },
    {
      "cell_type": "code",
      "execution_count": 396,
      "metadata": {
        "colab": {
          "base_uri": "https://localhost:8080/"
        },
        "id": "bA6LYOlG4CTB",
        "outputId": "31da2fbb-8fa8-4b91-aa2d-31dc37fc6175"
      },
      "outputs": [
        {
          "data": {
            "text/plain": [
              "120.16279069767442"
            ]
          },
          "execution_count": 396,
          "metadata": {},
          "output_type": "execute_result"
        }
      ],
      "source": [
        "np.mean(dim1)"
      ]
    },
    {
      "cell_type": "code",
      "execution_count": 397,
      "metadata": {
        "colab": {
          "base_uri": "https://localhost:8080/"
        },
        "id": "gs6by0nG4GZa",
        "outputId": "9d59624c-682b-416f-8a55-f8fd217399b7"
      },
      "outputs": [
        {
          "data": {
            "text/plain": [
              "114.72093023255815"
            ]
          },
          "execution_count": 397,
          "metadata": {},
          "output_type": "execute_result"
        }
      ],
      "source": [
        "np.mean(dim2)"
      ]
    },
    {
      "cell_type": "code",
      "execution_count": 398,
      "metadata": {
        "id": "BqpXvoJT5MW2"
      },
      "outputs": [],
      "source": [
        "height = 128\n",
        "width = 128"
      ]
    },
    {
      "cell_type": "code",
      "execution_count": 399,
      "metadata": {
        "id": "aFNn4Ifm5aaT"
      },
      "outputs": [],
      "source": [
        "datagen = ImageDataGenerator(rescale=1/255.0, validation_split=0.2)"
      ]
    },
    {
      "cell_type": "code",
      "execution_count": 400,
      "metadata": {
        "colab": {
          "base_uri": "https://localhost:8080/"
        },
        "id": "vXP9gtYF5nf3",
        "outputId": "25c82bc6-483f-435d-8501-8a3e24be0bdf"
      },
      "outputs": [
        {
          "name": "stdout",
          "output_type": "stream",
          "text": [
            "Found 333 images belonging to 2 classes.\n"
          ]
        }
      ],
      "source": [
        "trainDatagen = datagen.flow_from_directory(directory=train_path,\n",
        "                                           target_size=(width,height),\n",
        "                                           class_mode = 'binary',\n",
        "                                           batch_size = 16,\n",
        "                                           subset='training')"
      ]
    },
    {
      "cell_type": "code",
      "execution_count": 401,
      "metadata": {
        "colab": {
          "base_uri": "https://localhost:8080/"
        },
        "id": "bYKqhQcj5sRd",
        "outputId": "dbd5a198-3862-4c46-a19e-5712dfc044fe"
      },
      "outputs": [
        {
          "name": "stdout",
          "output_type": "stream",
          "text": [
            "Found 28 images belonging to 2 classes.\n"
          ]
        }
      ],
      "source": [
        "valDatagen = datagen.flow_from_directory(directory=test_path,\n",
        "                                           target_size=(width,height),\n",
        "                                           class_mode = 'binary',\n",
        "                                           batch_size = 16,\n",
        "                                           subset='validation')"
      ]
    },
    {
      "cell_type": "markdown",
      "metadata": {
        "id": "DvxBh_alG6MB"
      },
      "source": [
        "# CNN - Layers\n"
      ]
    },
    {
      "cell_type": "code",
      "execution_count": 402,
      "metadata": {
        "id": "lWoWxaca6L1r"
      },
      "outputs": [],
      "source": [
        "model = Sequential()\n",
        "model.add(Conv2D(16,(3,3),activation='relu',input_shape=(128,128,3)))\n",
        "model.add(MaxPool2D(2,2))\n",
        "model.add(Dropout(0.2))\n",
        "\n",
        "model.add(Conv2D(32,(3,3),activation='relu'))\n",
        "model.add(MaxPool2D(2,2))\n",
        "model.add(Dropout(0.3))\n",
        "\n",
        "model.add(Conv2D(64,(3,3),activation='relu'))\n",
        "model.add(MaxPool2D(2,2))\n",
        "model.add(Dropout(0.3))\n",
        "\n",
        "model.add(Flatten())\n",
        "model.add(Dense(64,activation='relu'))\n",
        "model.add(Dropout(0.5))\n",
        "\n",
        "model.add(Dense(1,activation='sigmoid'))"
      ]
    },
    {
      "cell_type": "code",
      "execution_count": 403,
      "metadata": {
        "colab": {
          "base_uri": "https://localhost:8080/"
        },
        "id": "mwEFd9re6Tou",
        "outputId": "1932fba9-40a7-4564-decf-31be0a643fa6"
      },
      "outputs": [
        {
          "name": "stdout",
          "output_type": "stream",
          "text": [
            "Model: \"sequential_7\"\n",
            "_________________________________________________________________\n",
            " Layer (type)                Output Shape              Param #   \n",
            "=================================================================\n",
            " conv2d_12 (Conv2D)          (None, 126, 126, 16)      448       \n",
            "                                                                 \n",
            " max_pooling2d_12 (MaxPoolin  (None, 63, 63, 16)       0         \n",
            " g2D)                                                            \n",
            "                                                                 \n",
            " dropout_16 (Dropout)        (None, 63, 63, 16)        0         \n",
            "                                                                 \n",
            " conv2d_13 (Conv2D)          (None, 61, 61, 32)        4640      \n",
            "                                                                 \n",
            " max_pooling2d_13 (MaxPoolin  (None, 30, 30, 32)       0         \n",
            " g2D)                                                            \n",
            "                                                                 \n",
            " dropout_17 (Dropout)        (None, 30, 30, 32)        0         \n",
            "                                                                 \n",
            " conv2d_14 (Conv2D)          (None, 28, 28, 64)        18496     \n",
            "                                                                 \n",
            " max_pooling2d_14 (MaxPoolin  (None, 14, 14, 64)       0         \n",
            " g2D)                                                            \n",
            "                                                                 \n",
            " dropout_18 (Dropout)        (None, 14, 14, 64)        0         \n",
            "                                                                 \n",
            " flatten_7 (Flatten)         (None, 12544)             0         \n",
            "                                                                 \n",
            " dense_26 (Dense)            (None, 64)                802880    \n",
            "                                                                 \n",
            " dropout_19 (Dropout)        (None, 64)                0         \n",
            "                                                                 \n",
            " dense_27 (Dense)            (None, 1)                 65        \n",
            "                                                                 \n",
            "=================================================================\n",
            "Total params: 826,529\n",
            "Trainable params: 826,529\n",
            "Non-trainable params: 0\n",
            "_________________________________________________________________\n"
          ]
        }
      ],
      "source": [
        "model.summary()"
      ]
    },
    {
      "cell_type": "code",
      "execution_count": 404,
      "metadata": {
        "id": "gZj4u-vV6hcC"
      },
      "outputs": [],
      "source": [
        "model.compile(optimizer='adam',loss='binary_crossentropy',metrics=['accuracy'])"
      ]
    },
    {
      "cell_type": "code",
      "execution_count": 405,
      "metadata": {
        "id": "Lumjc4he6inR"
      },
      "outputs": [],
      "source": [
        "early_stop = EarlyStopping(monitor='val_loss',patience=2)"
      ]
    },
    {
      "cell_type": "code",
      "execution_count": 406,
      "metadata": {
        "colab": {
          "base_uri": "https://localhost:8080/"
        },
        "id": "8L-2KWMwAl7M",
        "outputId": "4ea4f982-8183-47c0-b9f5-143b394b93d1"
      },
      "outputs": [
        {
          "name": "stdout",
          "output_type": "stream",
          "text": [
            "Epoch 1/10\n",
            "21/21 [==============================] - 4s 79ms/step - loss: 0.7781 - accuracy: 0.4775 - val_loss: 0.6880 - val_accuracy: 0.7143\n",
            "Epoch 2/10\n",
            "21/21 [==============================] - 82s 4s/step - loss: 0.6914 - accuracy: 0.5405 - val_loss: 0.6908 - val_accuracy: 0.7857\n",
            "Epoch 3/10\n",
            "21/21 [==============================] - 1s 60ms/step - loss: 0.6838 - accuracy: 0.5405 - val_loss: 0.6967 - val_accuracy: 0.3214\n",
            "Epoch 4/10\n",
            "21/21 [==============================] - 1s 53ms/step - loss: 0.6857 - accuracy: 0.5465 - val_loss: 0.6950 - val_accuracy: 0.3929\n",
            "Epoch 5/10\n",
            "21/21 [==============================] - 1s 47ms/step - loss: 0.6844 - accuracy: 0.5556 - val_loss: 0.6952 - val_accuracy: 0.3929\n",
            "Epoch 6/10\n",
            "21/21 [==============================] - 1s 46ms/step - loss: 0.6627 - accuracy: 0.6246 - val_loss: 0.7155 - val_accuracy: 0.3929\n",
            "Epoch 7/10\n",
            "21/21 [==============================] - 1s 46ms/step - loss: 0.6772 - accuracy: 0.5796 - val_loss: 0.6769 - val_accuracy: 0.5000\n",
            "Epoch 8/10\n",
            "21/21 [==============================] - 1s 51ms/step - loss: 0.6409 - accuracy: 0.6637 - val_loss: 0.7316 - val_accuracy: 0.4643\n",
            "Epoch 9/10\n",
            "21/21 [==============================] - 1s 46ms/step - loss: 0.6125 - accuracy: 0.6697 - val_loss: 0.7199 - val_accuracy: 0.4286\n",
            "Epoch 10/10\n",
            "21/21 [==============================] - 1s 45ms/step - loss: 0.6339 - accuracy: 0.6156 - val_loss: 0.7235 - val_accuracy: 0.3571\n"
          ]
        }
      ],
      "source": [
        "result=model.fit(trainDatagen,epochs=10,validation_data=valDatagen)"
      ]
    },
    {
      "cell_type": "code",
      "execution_count": 407,
      "metadata": {
        "id": "fjjBqdXEA4_U"
      },
      "outputs": [],
      "source": [
        "def plotLearningCurve(history,epochs):\n",
        "  epochRange = range(1,epochs+1)\n",
        "  plt.plot(epochRange,history.history['accuracy'])\n",
        "  plt.plot(epochRange,history.history['val_accuracy'])\n",
        "  plt.title('Model Accuracy')\n",
        "  plt.xlabel('Epoch')\n",
        "  plt.ylabel('Accuracy')\n",
        "  plt.legend(['Train','Validation'],loc='upper left')\n",
        "  plt.show()\n",
        "\n",
        "  plt.plot(epochRange,history.history['loss'])\n",
        "  plt.plot(epochRange,history.history['val_loss'])\n",
        "  plt.title('Model Loss')\n",
        "  plt.xlabel('Epoch')\n",
        "  plt.ylabel('Loss')\n",
        "  plt.legend(['Train','Validation'],loc='upper left')\n",
        "  plt.show()"
      ]
    },
    {
      "cell_type": "code",
      "execution_count": 408,
      "metadata": {
        "colab": {
          "base_uri": "https://localhost:8080/",
          "height": 927
        },
        "id": "Bg19V8hqB5yC",
        "outputId": "e664841c-82ca-4ca1-b017-117c44f41f27"
      },
      "outputs": [
        {
          "data": {
            "image/png": "[encoded data removed]",
            "text/plain": [
              "<Figure size 640x480 with 1 Axes>"
            ]
          },
          "metadata": {},
          "output_type": "display_data"
        },
        {
          "data": {
            "image/png": "[encoded data removed]",
            "text/plain": [
              "<Figure size 640x480 with 1 Axes>"
            ]
          },
          "metadata": {},
          "output_type": "display_data"
        }
      ],
      "source": [
        "plotLearningCurve(result,10)"
      ]
    },
    {
      "cell_type": "code",
      "execution_count": 409,
      "metadata": {
        "id": "rFofdt5iC3f9"
      },
      "outputs": [],
      "source": [
        "\n",
        "from sklearn.metrics import classification_report,confusion_matrix"
      ]
    },
    {
      "cell_type": "code",
      "execution_count": 410,
      "metadata": {
        "colab": {
          "base_uri": "https://localhost:8080/"
        },
        "id": "ihb6kKLHDATK",
        "outputId": "7c439578-acc1-4873-a115-82cdfd760675"
      },
      "outputs": [
        {
          "data": {
            "text/plain": [
              "['loss', 'accuracy']"
            ]
          },
          "execution_count": 410,
          "metadata": {},
          "output_type": "execute_result"
        }
      ],
      "source": [
        "model.metrics_names"
      ]
    },
    {
      "cell_type": "code",
      "execution_count": 411,
      "metadata": {
        "colab": {
          "base_uri": "https://localhost:8080/"
        },
        "id": "e-9axIXzDjM_",
        "outputId": "5c09aab4-5a85-4654-fb29-4b98eafcd5c3"
      },
      "outputs": [
        {
          "name": "stdout",
          "output_type": "stream",
          "text": [
            "2/2 [==============================] - 0s 27ms/step\n"
          ]
        }
      ],
      "source": [
        "pred=model.predict(valDatagen)"
      ]
    },
    {
      "cell_type": "code",
      "execution_count": 412,
      "metadata": {
        "id": "C-4ONsKQEfxZ"
      },
      "outputs": [],
      "source": [
        "predictions=pred>0.5"
      ]
    },
    {
      "cell_type": "code",
      "execution_count": 413,
      "metadata": {
        "colab": {
          "base_uri": "https://localhost:8080/"
        },
        "id": "FHEuom-jXkP_",
        "outputId": "fa1b3a3c-5127-42f1-cea1-add2e532c58e"
      },
      "outputs": [
        {
          "data": {
            "text/plain": [
              "array([[ True],\n",
              "       [False],\n",
              "       [ True],\n",
              "       [False],\n",
              "       [ True],\n",
              "       [ True],\n",
              "       [ True],\n",
              "       [ True],\n",
              "       [ True],\n",
              "       [ True],\n",
              "       [ True],\n",
              "       [False],\n",
              "       [False],\n",
              "       [ True],\n",
              "       [False],\n",
              "       [ True],\n",
              "       [ True],\n",
              "       [ True],\n",
              "       [ True],\n",
              "       [ True],\n",
              "       [ True],\n",
              "       [False],\n",
              "       [False],\n",
              "       [ True],\n",
              "       [False],\n",
              "       [False],\n",
              "       [False],\n",
              "       [ True]])"
            ]
          },
          "execution_count": 413,
          "metadata": {},
          "output_type": "execute_result"
        }
      ],
      "source": [
        "predictions"
      ]
    },
    {
      "cell_type": "code",
      "execution_count": 414,
      "metadata": {
        "colab": {
          "base_uri": "https://localhost:8080/"
        },
        "id": "B7AnQc27D8I4",
        "outputId": "67e9e49b-f843-4cc0-9e71-655f790b82cc"
      },
      "outputs": [
        {
          "data": {
            "text/plain": [
              "array([0, 0, 0, 0, 0, 0, 0, 0, 0, 0, 0, 0, 0, 0, 0, 0, 0, 0, 0, 0, 1, 1,\n",
              "       1, 1, 1, 1, 1, 1], dtype=int32)"
            ]
          },
          "execution_count": 414,
          "metadata": {},
          "output_type": "execute_result"
        }
      ],
      "source": [
        "valDatagen.classes"
      ]
    },
    {
      "cell_type": "code",
      "execution_count": 415,
      "metadata": {
        "colab": {
          "base_uri": "https://localhost:8080/"
        },
        "id": "f3kcBRDxEG7W",
        "outputId": "4036d973-df4f-44f4-b1c8-ea7412f12445"
      },
      "outputs": [
        {
          "name": "stdout",
          "output_type": "stream",
          "text": [
            "              precision    recall  f1-score   support\n",
            "\n",
            "           0       0.50      0.25      0.33        20\n",
            "           1       0.17      0.38      0.23         8\n",
            "\n",
            "    accuracy                           0.29        28\n",
            "   macro avg       0.33      0.31      0.28        28\n",
            "weighted avg       0.40      0.29      0.30        28\n",
            "\n"
          ]
        }
      ],
      "source": [
        "print(classification_report(valDatagen.classes,predictions))"
      ]
    },
    {
      "cell_type": "code",
      "execution_count": 416,
      "metadata": {
        "id": "VLtTXeF-_pHq"
      },
      "outputs": [],
      "source": [
        "acc = []\n",
        "preciss= []"
      ]
    },
    {
      "cell_type": "code",
      "execution_count": 417,
      "metadata": {
        "id": "THdSPNKNfgub"
      },
      "outputs": [],
      "source": [
        "from sklearn.metrics import precision_score, accuracy_score"
      ]
    },
    {
      "cell_type": "code",
      "execution_count": 418,
      "metadata": {
        "id": "I4vxUq1crZUf"
      },
      "outputs": [],
      "source": [
        "predictions = predictions.astype(int)\n",
        "predict_labels = predictions.flatten()\n",
        "prec_score = precision_score(valDatagen.classes, predict_labels)\n",
        "preciss.append(prec_score)\n",
        "accuracy= accuracy_score(valDatagen.classes, predict_labels)\n",
        "acc.append(accuracy)\n",
        "\n",
        "\n",
        "\n"
      ]
    },
    {
      "cell_type": "code",
      "execution_count": 419,
      "metadata": {
        "colab": {
          "base_uri": "https://localhost:8080/"
        },
        "id": "CtAi75_DyF8R",
        "outputId": "3877bb08-ee0d-4a7e-bc80-fed67ebf833c"
      },
      "outputs": [
        {
          "name": "stdout",
          "output_type": "stream",
          "text": [
            "[0.2857142857142857]\n",
            "[0.16666666666666666]\n"
          ]
        }
      ],
      "source": [
        "print(acc)\n",
        "print(preciss)"
      ]
    },
    {
      "cell_type": "code",
      "execution_count": 420,
      "metadata": {
        "colab": {
          "base_uri": "https://localhost:8080/"
        },
        "id": "bxgTJsG2msDS",
        "outputId": "ee18ca3d-e2aa-42fe-d0e2-950bf4e16861"
      },
      "outputs": [
        {
          "data": {
            "text/plain": [
              "0"
            ]
          },
          "execution_count": 420,
          "metadata": {},
          "output_type": "execute_result"
        }
      ],
      "source": [
        "valDatagen.classes[0]\n"
      ]
    },
    {
      "cell_type": "code",
      "execution_count": 421,
      "metadata": {
        "colab": {
          "base_uri": "https://localhost:8080/"
        },
        "id": "UXJ0c8VUmwLT",
        "outputId": "1d0b3b3f-5751-4720-bbaf-5fd50ac69e09"
      },
      "outputs": [
        {
          "data": {
            "text/plain": [
              "array([1])"
            ]
          },
          "execution_count": 421,
          "metadata": {},
          "output_type": "execute_result"
        }
      ],
      "source": [
        "predictions[0]\n"
      ]
    },
    {
      "cell_type": "markdown",
      "metadata": {
        "id": "8OQjB0U1Avat"
      },
      "source": [
        "# VGG16"
      ]
    },
    {
      "cell_type": "code",
      "execution_count": 422,
      "metadata": {
        "id": "4bhBLRBpA0jh"
      },
      "outputs": [],
      "source": [
        "from tensorflow.keras.applications.vgg16 import VGG16"
      ]
    },
    {
      "cell_type": "code",
      "execution_count": 423,
      "metadata": {
        "colab": {
          "base_uri": "https://localhost:8080/"
        },
        "id": "E7WhaDEjBLWf",
        "outputId": "5222b3b9-4cf8-4e44-8c12-d1e1ba1e3d0f"
      },
      "outputs": [
        {
          "name": "stdout",
          "output_type": "stream",
          "text": [
            "Found 416 images belonging to 2 classes.\n"
          ]
        }
      ],
      "source": [
        "training_set = datagen.flow_from_directory(directory=train_path,\n",
        "                                           target_size=(224,224),\n",
        "                                           class_mode = 'categorical',\n",
        "                                           batch_size = 32,\n",
        "                                           )"
      ]
    },
    {
      "cell_type": "code",
      "execution_count": 424,
      "metadata": {
        "colab": {
          "base_uri": "https://localhost:8080/"
        },
        "id": "loccwAASBUSw",
        "outputId": "f80c6c46-604c-4c5d-9260-8ab23523fdf6"
      },
      "outputs": [
        {
          "name": "stdout",
          "output_type": "stream",
          "text": [
            "Found 144 images belonging to 2 classes.\n"
          ]
        }
      ],
      "source": [
        "test_set =  datagen.flow_from_directory(directory=test_path,\n",
        "                                           target_size=(224,224),\n",
        "                                           class_mode = 'categorical',\n",
        "                                           batch_size = 32,\n",
        "                                           )"
      ]
    },
    {
      "cell_type": "code",
      "execution_count": 425,
      "metadata": {
        "id": "dJvGve_FClSN"
      },
      "outputs": [],
      "source": [
        "base_model = VGG16(weights='imagenet', include_top=False, input_shape=(224, 224, 3))\n"
      ]
    },
    {
      "cell_type": "code",
      "execution_count": 426,
      "metadata": {
        "id": "zU_Z9gQbGPE2"
      },
      "outputs": [],
      "source": [
        "import tensorflow.keras as keras\n",
        "from tensorflow.keras.models import Model"
      ]
    },
    {
      "cell_type": "code",
      "execution_count": 427,
      "metadata": {
        "id": "QxmFzahQDDtK"
      },
      "outputs": [],
      "source": [
        "x = base_model.output\n",
        "x = keras.layers.GlobalAveragePooling2D()(x)\n",
        "x = keras.layers.Dense(256, activation='relu')(x)\n",
        "predictions = keras.layers.Dense(2, activation='softmax')(x)\n",
        "model = Model(inputs=base_model.input, outputs=predictions)\n"
      ]
    },
    {
      "cell_type": "code",
      "execution_count": 428,
      "metadata": {
        "id": "R9qNNVX7RzMu"
      },
      "outputs": [],
      "source": [
        "for layer in base_model.layers:\n",
        "    layer.trainable = False"
      ]
    },
    {
      "cell_type": "code",
      "execution_count": 429,
      "metadata": {
        "id": "uxx71C66F2mW"
      },
      "outputs": [],
      "source": [
        "model.compile(optimizer='adam', loss='categorical_crossentropy', metrics=['accuracy'])\n"
      ]
    },
    {
      "cell_type": "code",
      "execution_count": 430,
      "metadata": {
        "colab": {
          "base_uri": "https://localhost:8080/"
        },
        "id": "CW_AqWXyGpBZ",
        "outputId": "6d0eb366-d764-4ea9-b30b-1d5c743bb0ad"
      },
      "outputs": [
        {
          "name": "stdout",
          "output_type": "stream",
          "text": [
            "Model: \"model_5\"\n",
            "_________________________________________________________________\n",
            " Layer (type)                Output Shape              Param #   \n",
            "=================================================================\n",
            " input_15 (InputLayer)       [(None, 224, 224, 3)]     0         \n",
            "                                                                 \n",
            " block1_conv1 (Conv2D)       (None, 224, 224, 64)      1792      \n",
            "                                                                 \n",
            " block1_conv2 (Conv2D)       (None, 224, 224, 64)      36928     \n",
            "                                                                 \n",
            " block1_pool (MaxPooling2D)  (None, 112, 112, 64)      0         \n",
            "                                                                 \n",
            " block2_conv1 (Conv2D)       (None, 112, 112, 128)     73856     \n",
            "                                                                 \n",
            " block2_conv2 (Conv2D)       (None, 112, 112, 128)     147584    \n",
            "                                                                 \n",
            " block2_pool (MaxPooling2D)  (None, 56, 56, 128)       0         \n",
            "                                                                 \n",
            " block3_conv1 (Conv2D)       (None, 56, 56, 256)       295168    \n",
            "                                                                 \n",
            " block3_conv2 (Conv2D)       (None, 56, 56, 256)       590080    \n",
            "                                                                 \n",
            " block3_conv3 (Conv2D)       (None, 56, 56, 256)       590080    \n",
            "                                                                 \n",
            " block3_pool (MaxPooling2D)  (None, 28, 28, 256)       0         \n",
            "                                                                 \n",
            " block4_conv1 (Conv2D)       (None, 28, 28, 512)       1180160   \n",
            "                                                                 \n",
            " block4_conv2 (Conv2D)       (None, 28, 28, 512)       2359808   \n",
            "                                                                 \n",
            " block4_conv3 (Conv2D)       (None, 28, 28, 512)       2359808   \n",
            "                                                                 \n",
            " block4_pool (MaxPooling2D)  (None, 14, 14, 512)       0         \n",
            "                                                                 \n",
            " block5_conv1 (Conv2D)       (None, 14, 14, 512)       2359808   \n",
            "                                                                 \n",
            " block5_conv2 (Conv2D)       (None, 14, 14, 512)       2359808   \n",
            "                                                                 \n",
            " block5_conv3 (Conv2D)       (None, 14, 14, 512)       2359808   \n",
            "                                                                 \n",
            " block5_pool (MaxPooling2D)  (None, 7, 7, 512)         0         \n",
            "                                                                 \n",
            " global_average_pooling2d_6   (None, 512)              0         \n",
            " (GlobalAveragePooling2D)                                        \n",
            "                                                                 \n",
            " dense_28 (Dense)            (None, 256)               131328    \n",
            "                                                                 \n",
            " dense_29 (Dense)            (None, 2)                 514       \n",
            "                                                                 \n",
            "=================================================================\n",
            "Total params: 14,846,530\n",
            "Trainable params: 131,842\n",
            "Non-trainable params: 14,714,688\n",
            "_________________________________________________________________\n"
          ]
        }
      ],
      "source": [
        "model.summary()"
      ]
    },
    {
      "cell_type": "code",
      "execution_count": 431,
      "metadata": {
        "colab": {
          "base_uri": "https://localhost:8080/"
        },
        "id": "jrtjLzL-HVaX",
        "outputId": "e987c1bc-188b-413a-f87a-27a74cd2603d"
      },
      "outputs": [
        {
          "name": "stdout",
          "output_type": "stream",
          "text": [
            "Epoch 1/10\n",
            "13/13 [==============================] - 5s 221ms/step - loss: 0.6801 - accuracy: 0.4928 - val_loss: 0.6007 - val_accuracy: 0.7014\n",
            "Epoch 2/10\n",
            "13/13 [==============================] - 2s 176ms/step - loss: 0.5951 - accuracy: 0.8197 - val_loss: 0.6075 - val_accuracy: 0.7708\n",
            "Epoch 3/10\n",
            "13/13 [==============================] - 3s 228ms/step - loss: 0.5576 - accuracy: 0.7981 - val_loss: 0.5551 - val_accuracy: 0.7292\n",
            "Epoch 4/10\n",
            "13/13 [==============================] - 5s 420ms/step - loss: 0.5130 - accuracy: 0.8149 - val_loss: 0.5210 - val_accuracy: 0.7222\n",
            "Epoch 5/10\n",
            "13/13 [==============================] - 3s 250ms/step - loss: 0.4874 - accuracy: 0.7885 - val_loss: 0.5183 - val_accuracy: 0.8125\n",
            "Epoch 6/10\n",
            "13/13 [==============================] - 4s 273ms/step - loss: 0.4443 - accuracy: 0.8293 - val_loss: 0.5093 - val_accuracy: 0.7917\n",
            "Epoch 7/10\n",
            "13/13 [==============================] - 3s 248ms/step - loss: 0.4011 - accuracy: 0.8798 - val_loss: 0.4692 - val_accuracy: 0.8194\n",
            "Epoch 8/10\n",
            "13/13 [==============================] - 3s 198ms/step - loss: 0.3848 - accuracy: 0.8750 - val_loss: 0.5075 - val_accuracy: 0.7639\n",
            "Epoch 9/10\n",
            "13/13 [==============================] - 2s 179ms/step - loss: 0.3516 - accuracy: 0.8918 - val_loss: 0.4191 - val_accuracy: 0.8264\n",
            "Epoch 10/10\n",
            "13/13 [==============================] - 2s 179ms/step - loss: 0.3640 - accuracy: 0.8462 - val_loss: 0.5404 - val_accuracy: 0.7431\n"
          ]
        }
      ],
      "source": [
        "result1=model.fit(training_set,epochs = 10,validation_data=test_set)"
      ]
    },
    {
      "cell_type": "code",
      "execution_count": 432,
      "metadata": {
        "colab": {
          "base_uri": "https://localhost:8080/",
          "height": 927
        },
        "id": "hHR5gvOJVPL5",
        "outputId": "e9d0495e-0074-41ad-ecd0-d5f3d0319c8b"
      },
      "outputs": [
        {
          "data": {
            "image/png": "[encoded data removed]",
            "text/plain": [
              "<Figure size 640x480 with 1 Axes>"
            ]
          },
          "metadata": {},
          "output_type": "display_data"
        },
        {
          "data": {
            "image/png": "[encoded data removed]",
            "text/plain": [
              "<Figure size 640x480 with 1 Axes>"
            ]
          },
          "metadata": {},
          "output_type": "display_data"
        }
      ],
      "source": [
        "plotLearningCurve(result1,10)"
      ]
    },
    {
      "cell_type": "code",
      "execution_count": 433,
      "metadata": {
        "colab": {
          "base_uri": "https://localhost:8080/"
        },
        "id": "pjWhVvfmKJhI",
        "outputId": "6ddd78cc-c5ba-4b20-9ae8-fce12c89b466"
      },
      "outputs": [
        {
          "name": "stdout",
          "output_type": "stream",
          "text": [
            "5/5 [==============================] - 1s 130ms/step\n"
          ]
        },
        {
          "data": {
            "text/plain": [
              "array([[0.6837905 , 0.3162095 ],\n",
              "       [0.57602847, 0.42397153],\n",
              "       [0.43780714, 0.56219286],\n",
              "       [0.957881  , 0.042119  ],\n",
              "       [0.7566984 , 0.24330162],\n",
              "       [0.6703022 , 0.32969782],\n",
              "       [0.3584328 , 0.64156723],\n",
              "       [0.19235504, 0.8076449 ],\n",
              "       [0.38129166, 0.6187084 ],\n",
              "       [0.5502854 , 0.4497146 ],\n",
              "       [0.6703022 , 0.32969782],\n",
              "       [0.18305321, 0.81694674],\n",
              "       [0.25153163, 0.7484684 ],\n",
              "       [0.64829963, 0.3517004 ],\n",
              "       [0.37809741, 0.6219026 ],\n",
              "       [0.40360984, 0.5963901 ],\n",
              "       [0.79112166, 0.20887832],\n",
              "       [0.32793975, 0.67206025],\n",
              "       [0.938391  , 0.06160903],\n",
              "       [0.5450969 , 0.45490316],\n",
              "       [0.34202722, 0.65797275],\n",
              "       [0.18804048, 0.8119595 ],\n",
              "       [0.5957473 , 0.40425268],\n",
              "       [0.13198443, 0.8680155 ],\n",
              "       [0.19294183, 0.8070582 ],\n",
              "       [0.5608838 , 0.43911618],\n",
              "       [0.42456365, 0.57543635],\n",
              "       [0.24092177, 0.7590782 ],\n",
              "       [0.8125411 , 0.18745883],\n",
              "       [0.17403689, 0.8259631 ],\n",
              "       [0.53664476, 0.46335524],\n",
              "       [0.3772711 , 0.6227289 ],\n",
              "       [0.19614047, 0.80385953],\n",
              "       [0.21667598, 0.78332406],\n",
              "       [0.54256195, 0.45743808],\n",
              "       [0.6250354 , 0.37496454],\n",
              "       [0.39807466, 0.6019254 ],\n",
              "       [0.20897819, 0.7910219 ],\n",
              "       [0.28298658, 0.7170134 ],\n",
              "       [0.33870482, 0.6612951 ],\n",
              "       [0.24653833, 0.75346166],\n",
              "       [0.4386175 , 0.5613825 ],\n",
              "       [0.7823406 , 0.2176594 ],\n",
              "       [0.13020474, 0.86979526],\n",
              "       [0.1377583 , 0.8622417 ],\n",
              "       [0.208432  , 0.79156804],\n",
              "       [0.13065612, 0.86934394],\n",
              "       [0.14580677, 0.8541932 ],\n",
              "       [0.9086792 , 0.09132088],\n",
              "       [0.974139  , 0.02586101],\n",
              "       [0.5203294 , 0.47967064],\n",
              "       [0.2220012 , 0.7779988 ],\n",
              "       [0.40049762, 0.5995024 ],\n",
              "       [0.6356178 , 0.36438218],\n",
              "       [0.7841021 , 0.21589789],\n",
              "       [0.23188227, 0.7681177 ],\n",
              "       [0.24297124, 0.7570287 ],\n",
              "       [0.92784095, 0.07215912],\n",
              "       [0.41880757, 0.5811924 ],\n",
              "       [0.1029887 , 0.89701134],\n",
              "       [0.25540084, 0.74459916],\n",
              "       [0.6837905 , 0.3162095 ],\n",
              "       [0.23295018, 0.76704985],\n",
              "       [0.5177443 , 0.48225567],\n",
              "       [0.18033776, 0.8196623 ],\n",
              "       [0.17334396, 0.82665604],\n",
              "       [0.43017915, 0.5698208 ],\n",
              "       [0.13464014, 0.86535984],\n",
              "       [0.8412578 , 0.15874223],\n",
              "       [0.19874044, 0.8012595 ],\n",
              "       [0.27558708, 0.7244129 ],\n",
              "       [0.73846954, 0.2615304 ],\n",
              "       [0.6663028 , 0.33369723],\n",
              "       [0.80719316, 0.1928068 ],\n",
              "       [0.7409331 , 0.25906688],\n",
              "       [0.79112166, 0.20887832],\n",
              "       [0.9569103 , 0.0430897 ],\n",
              "       [0.31061074, 0.6893892 ],\n",
              "       [0.29788348, 0.7021165 ],\n",
              "       [0.47441077, 0.5255892 ],\n",
              "       [0.15207565, 0.84792435],\n",
              "       [0.23258132, 0.76741874],\n",
              "       [0.1972364 , 0.8027636 ],\n",
              "       [0.58462936, 0.4153706 ],\n",
              "       [0.56225675, 0.43774322],\n",
              "       [0.20897819, 0.7910219 ],\n",
              "       [0.95097786, 0.04902216],\n",
              "       [0.30730626, 0.6926937 ],\n",
              "       [0.29011366, 0.7098863 ],\n",
              "       [0.5957473 , 0.40425268],\n",
              "       [0.14935634, 0.85064363],\n",
              "       [0.7007534 , 0.29924667],\n",
              "       [0.9555122 , 0.04448781],\n",
              "       [0.59196347, 0.40803647],\n",
              "       [0.5203294 , 0.47967064],\n",
              "       [0.7401286 , 0.2598714 ],\n",
              "       [0.62376577, 0.37623417],\n",
              "       [0.19294183, 0.8070582 ],\n",
              "       [0.8172696 , 0.18273038],\n",
              "       [0.1439131 , 0.8560869 ],\n",
              "       [0.47583082, 0.5241692 ],\n",
              "       [0.12903802, 0.870962  ],\n",
              "       [0.28778943, 0.71221054],\n",
              "       [0.20302863, 0.7969713 ],\n",
              "       [0.9423149 , 0.05768504],\n",
              "       [0.5450969 , 0.45490316],\n",
              "       [0.9256435 , 0.07435655],\n",
              "       [0.38066137, 0.6193386 ],\n",
              "       [0.5424614 , 0.45753863],\n",
              "       [0.8077049 , 0.19229506],\n",
              "       [0.60583353, 0.39416647],\n",
              "       [0.24190964, 0.7580904 ],\n",
              "       [0.18633229, 0.8136677 ],\n",
              "       [0.19759944, 0.8024006 ],\n",
              "       [0.78726757, 0.21273251],\n",
              "       [0.5793533 , 0.42064667],\n",
              "       [0.14160982, 0.8583902 ],\n",
              "       [0.5624101 , 0.4375899 ],\n",
              "       [0.1443964 , 0.8556036 ],\n",
              "       [0.30654302, 0.69345695],\n",
              "       [0.67728686, 0.32271317],\n",
              "       [0.88199717, 0.11800282],\n",
              "       [0.15766658, 0.8423334 ],\n",
              "       [0.21845388, 0.7815461 ],\n",
              "       [0.47542405, 0.52457595],\n",
              "       [0.9227007 , 0.07729927],\n",
              "       [0.8958704 , 0.10412958],\n",
              "       [0.3111662 , 0.68883383],\n",
              "       [0.21268986, 0.7873101 ],\n",
              "       [0.18270425, 0.81729573],\n",
              "       [0.4000775 , 0.5999225 ],\n",
              "       [0.61038554, 0.3896145 ],\n",
              "       [0.32889816, 0.67110187],\n",
              "       [0.19721968, 0.80278033],\n",
              "       [0.5308262 , 0.46917385],\n",
              "       [0.6924116 , 0.30758846],\n",
              "       [0.881997  , 0.11800305],\n",
              "       [0.17842719, 0.8215728 ],\n",
              "       [0.5424606 , 0.45753938],\n",
              "       [0.46067747, 0.53932256],\n",
              "       [0.27710414, 0.72289586],\n",
              "       [0.6442046 , 0.35579538],\n",
              "       [0.32834226, 0.67165774],\n",
              "       [0.99579275, 0.0042073 ]], dtype=float32)"
            ]
          },
          "execution_count": 433,
          "metadata": {},
          "output_type": "execute_result"
        }
      ],
      "source": [
        "predict = model.predict(test_set)\n",
        "predict"
      ]
    },
    {
      "cell_type": "code",
      "execution_count": 434,
      "metadata": {
        "colab": {
          "base_uri": "https://localhost:8080/"
        },
        "id": "Uo0wWcCUWQe3",
        "outputId": "93beb61f-f58e-498d-d6a6-cb7e279aaba8"
      },
      "outputs": [
        {
          "data": {
            "text/plain": [
              "array([0, 0, 0, 0, 0, 0, 0, 0, 0, 0, 0, 0, 0, 0, 0, 0, 0, 0, 0, 0, 0, 0,\n",
              "       0, 0, 0, 0, 0, 0, 0, 0, 0, 0, 0, 0, 0, 0, 0, 0, 0, 0, 0, 0, 0, 0,\n",
              "       0, 0, 0, 0, 0, 0, 0, 0, 0, 0, 0, 0, 0, 0, 0, 0, 0, 0, 0, 0, 0, 0,\n",
              "       0, 0, 0, 0, 0, 0, 0, 0, 0, 0, 0, 0, 0, 0, 0, 0, 0, 0, 0, 0, 0, 0,\n",
              "       0, 0, 0, 0, 0, 0, 0, 0, 0, 0, 0, 0, 0, 1, 1, 1, 1, 1, 1, 1, 1, 1,\n",
              "       1, 1, 1, 1, 1, 1, 1, 1, 1, 1, 1, 1, 1, 1, 1, 1, 1, 1, 1, 1, 1, 1,\n",
              "       1, 1, 1, 1, 1, 1, 1, 1, 1, 1, 1, 1], dtype=int32)"
            ]
          },
          "execution_count": 434,
          "metadata": {},
          "output_type": "execute_result"
        }
      ],
      "source": [
        "test_set.classes"
      ]
    },
    {
      "cell_type": "code",
      "execution_count": 435,
      "metadata": {
        "colab": {
          "base_uri": "https://localhost:8080/"
        },
        "id": "sb4livu6WhEw",
        "outputId": "b277b23c-5ce7-42ce-b0e1-3ff4ea7503ab"
      },
      "outputs": [
        {
          "data": {
            "text/plain": [
              "0"
            ]
          },
          "execution_count": 435,
          "metadata": {},
          "output_type": "execute_result"
        }
      ],
      "source": [
        "test_set.classes[0]"
      ]
    },
    {
      "cell_type": "code",
      "execution_count": 436,
      "metadata": {
        "colab": {
          "base_uri": "https://localhost:8080/"
        },
        "id": "U-HdJW6ZZXyw",
        "outputId": "fa1378bb-bb60-4bfa-866e-a7350881902e"
      },
      "outputs": [
        {
          "data": {
            "text/plain": [
              "array([0, 0, 1, 0, 0, 0, 1, 1, 1, 0, 0, 1, 1, 0, 1, 1, 0, 1, 0, 0, 1, 1,\n",
              "       0, 1, 1, 0, 1, 1, 0, 1, 0, 1, 1, 1, 0, 0, 1, 1, 1, 1, 1, 1, 0, 1,\n",
              "       1, 1, 1, 1, 0, 0, 0, 1, 1, 0, 0, 1, 1, 0, 1, 1, 1, 0, 1, 0, 1, 1,\n",
              "       1, 1, 0, 1, 1, 0, 0, 0, 0, 0, 0, 1, 1, 1, 1, 1, 1, 0, 0, 1, 0, 1,\n",
              "       1, 0, 1, 0, 0, 0, 0, 0, 0, 1, 0, 1, 1, 1, 1, 1, 0, 0, 0, 1, 0, 0,\n",
              "       0, 1, 1, 1, 0, 0, 1, 0, 1, 1, 0, 0, 1, 1, 1, 0, 0, 1, 1, 1, 1, 0,\n",
              "       1, 1, 0, 0, 0, 1, 0, 1, 1, 0, 1, 0])"
            ]
          },
          "execution_count": 436,
          "metadata": {},
          "output_type": "execute_result"
        }
      ],
      "source": [
        "import  numpy as np\n",
        "preddict = np.argmax(predict,axis = 1)\n",
        "preddict"
      ]
    },
    {
      "cell_type": "code",
      "execution_count": 437,
      "metadata": {
        "colab": {
          "base_uri": "https://localhost:8080/"
        },
        "id": "yfJ67myMWsp7",
        "outputId": "7e749ad8-0efa-413f-9462-3996aadc216c"
      },
      "outputs": [
        {
          "name": "stdout",
          "output_type": "stream",
          "text": [
            "              precision    recall  f1-score   support\n",
            "\n",
            "           0       0.69      0.44      0.53       101\n",
            "           1       0.29      0.53      0.37        43\n",
            "\n",
            "    accuracy                           0.47       144\n",
            "   macro avg       0.49      0.49      0.45       144\n",
            "weighted avg       0.57      0.47      0.49       144\n",
            "\n"
          ]
        }
      ],
      "source": [
        "print(classification_report(test_set.classes,preddict))"
      ]
    },
    {
      "cell_type": "code",
      "execution_count": 438,
      "metadata": {
        "id": "LiTJchDOgKeG"
      },
      "outputs": [],
      "source": [
        "preddict = preddict.astype(int)\n",
        "predict_labels = preddict.flatten()\n",
        "prec_score = precision_score(test_set.classes, preddict)\n",
        "preciss.append(prec_score)\n",
        "accuracy= accuracy_score(test_set.classes, predict_labels)\n",
        "acc.append(accuracy)\n"
      ]
    },
    {
      "cell_type": "markdown",
      "metadata": {
        "id": "oz2jXvyUF3Nd"
      },
      "source": [
        "# Resnet\n"
      ]
    },
    {
      "cell_type": "code",
      "execution_count": 441,
      "metadata": {
        "id": "UsDD9QWrF6Ej"
      },
      "outputs": [],
      "source": [
        "from tensorflow.keras.applications import ResNet50\n",
        "from tensorflow.keras.layers import Dense, GlobalAveragePooling2D\n",
        "from tensorflow.keras.models import Model"
      ]
    },
    {
      "cell_type": "code",
      "execution_count": 442,
      "metadata": {
        "id": "gqmuFhmAJOKA"
      },
      "outputs": [],
      "source": [
        "base_model = ResNet50(weights='imagenet', include_top=False, input_shape=(224, 224, 3))\n",
        "\n",
        "\n"
      ]
    },
    {
      "cell_type": "code",
      "execution_count": 443,
      "metadata": {
        "colab": {
          "base_uri": "https://localhost:8080/"
        },
        "id": "fuiOsF6qqogT",
        "outputId": "b1338904-ff3d-4265-9038-ad22129bf48f"
      },
      "outputs": [
        {
          "data": {
            "text/plain": [
              "<KerasTensor: shape=(None, 7, 7, 2048) dtype=float32 (created by layer 'conv5_block3_out')>"
            ]
          },
          "execution_count": 443,
          "metadata": {},
          "output_type": "execute_result"
        }
      ],
      "source": [
        "x = base_model.output\n",
        "x"
      ]
    },
    {
      "cell_type": "code",
      "execution_count": 444,
      "metadata": {
        "id": "Jmlqw40NqmWU"
      },
      "outputs": [],
      "source": [
        "x = base_model.output\n",
        "x = GlobalAveragePooling2D()(x)\n",
        "x = Dense(512, activation='relu')(x)\n",
        "predictions = Dense(1, activation='sigmoid')(x)"
      ]
    },
    {
      "cell_type": "code",
      "execution_count": 445,
      "metadata": {
        "id": "BmujfqRwryNf"
      },
      "outputs": [],
      "source": [
        "model = Model(inputs=base_model.input, outputs=predictions)"
      ]
    },
    {
      "cell_type": "code",
      "execution_count": 446,
      "metadata": {
        "id": "toSXsc1JsB6t"
      },
      "outputs": [],
      "source": [
        "for layer in base_model.layers:\n",
        "    layer.trainable = False"
      ]
    },
    {
      "cell_type": "code",
      "execution_count": 447,
      "metadata": {
        "colab": {
          "base_uri": "https://localhost:8080/"
        },
        "id": "RsAvybUpr4mF",
        "outputId": "f050ac42-8653-4fb3-be92-3559752db9e8"
      },
      "outputs": [
        {
          "name": "stdout",
          "output_type": "stream",
          "text": [
            "Model: \"model_6\"\n",
            "__________________________________________________________________________________________________\n",
            " Layer (type)                   Output Shape         Param #     Connected to                     \n",
            "==================================================================================================\n",
            " input_17 (InputLayer)          [(None, 224, 224, 3  0           []                               \n",
            "                                )]                                                                \n",
            "                                                                                                  \n",
            " conv1_pad (ZeroPadding2D)      (None, 230, 230, 3)  0           ['input_17[0][0]']               \n",
            "                                                                                                  \n",
            " conv1_conv (Conv2D)            (None, 112, 112, 64  9472        ['conv1_pad[0][0]']              \n",
            "                                )                                                                 \n",
            "                                                                                                  \n",
            " conv1_bn (BatchNormalization)  (None, 112, 112, 64  256         ['conv1_conv[0][0]']             \n",
            "                                )                                                                 \n",
            "                                                                                                  \n",
            " conv1_relu (Activation)        (None, 112, 112, 64  0           ['conv1_bn[0][0]']               \n",
            "                                )                                                                 \n",
            "                                                                                                  \n",
            " pool1_pad (ZeroPadding2D)      (None, 114, 114, 64  0           ['conv1_relu[0][0]']             \n",
            "                                )                                                                 \n",
            "                                                                                                  \n",
            " pool1_pool (MaxPooling2D)      (None, 56, 56, 64)   0           ['pool1_pad[0][0]']              \n",
            "                                                                                                  \n",
            " conv2_block1_1_conv (Conv2D)   (None, 56, 56, 64)   4160        ['pool1_pool[0][0]']             \n",
            "                                                                                                  \n",
            " conv2_block1_1_bn (BatchNormal  (None, 56, 56, 64)  256         ['conv2_block1_1_conv[0][0]']    \n",
            " ization)                                                                                         \n",
            "                                                                                                  \n",
            " conv2_block1_1_relu (Activatio  (None, 56, 56, 64)  0           ['conv2_block1_1_bn[0][0]']      \n",
            " n)                                                                                               \n",
            "                                                                                                  \n",
            " conv2_block1_2_conv (Conv2D)   (None, 56, 56, 64)   36928       ['conv2_block1_1_relu[0][0]']    \n",
            "                                                                                                  \n",
            " conv2_block1_2_bn (BatchNormal  (None, 56, 56, 64)  256         ['conv2_block1_2_conv[0][0]']    \n",
            " ization)                                                                                         \n",
            "                                                                                                  \n",
            " conv2_block1_2_relu (Activatio  (None, 56, 56, 64)  0           ['conv2_block1_2_bn[0][0]']      \n",
            " n)                                                                                               \n",
            "                                                                                                  \n",
            " conv2_block1_0_conv (Conv2D)   (None, 56, 56, 256)  16640       ['pool1_pool[0][0]']             \n",
            "                                                                                                  \n",
            " conv2_block1_3_conv (Conv2D)   (None, 56, 56, 256)  16640       ['conv2_block1_2_relu[0][0]']    \n",
            "                                                                                                  \n",
            " conv2_block1_0_bn (BatchNormal  (None, 56, 56, 256)  1024       ['conv2_block1_0_conv[0][0]']    \n",
            " ization)                                                                                         \n",
            "                                                                                                  \n",
            " conv2_block1_3_bn (BatchNormal  (None, 56, 56, 256)  1024       ['conv2_block1_3_conv[0][0]']    \n",
            " ization)                                                                                         \n",
            "                                                                                                  \n",
            " conv2_block1_add (Add)         (None, 56, 56, 256)  0           ['conv2_block1_0_bn[0][0]',      \n",
            "                                                                  'conv2_block1_3_bn[0][0]']      \n",
            "                                                                                                  \n",
            " conv2_block1_out (Activation)  (None, 56, 56, 256)  0           ['conv2_block1_add[0][0]']       \n",
            "                                                                                                  \n",
            " conv2_block2_1_conv (Conv2D)   (None, 56, 56, 64)   16448       ['conv2_block1_out[0][0]']       \n",
            "                                                                                                  \n",
            " conv2_block2_1_bn (BatchNormal  (None, 56, 56, 64)  256         ['conv2_block2_1_conv[0][0]']    \n",
            " ization)                                                                                         \n",
            "                                                                                                  \n",
            " conv2_block2_1_relu (Activatio  (None, 56, 56, 64)  0           ['conv2_block2_1_bn[0][0]']      \n",
            " n)                                                                                               \n",
            "                                                                                                  \n",
            " conv2_block2_2_conv (Conv2D)   (None, 56, 56, 64)   36928       ['conv2_block2_1_relu[0][0]']    \n",
            "                                                                                                  \n",
            " conv2_block2_2_bn (BatchNormal  (None, 56, 56, 64)  256         ['conv2_block2_2_conv[0][0]']    \n",
            " ization)                                                                                         \n",
            "                                                                                                  \n",
            " conv2_block2_2_relu (Activatio  (None, 56, 56, 64)  0           ['conv2_block2_2_bn[0][0]']      \n",
            " n)                                                                                               \n",
            "                                                                                                  \n",
            " conv2_block2_3_conv (Conv2D)   (None, 56, 56, 256)  16640       ['conv2_block2_2_relu[0][0]']    \n",
            "                                                                                                  \n",
            " conv2_block2_3_bn (BatchNormal  (None, 56, 56, 256)  1024       ['conv2_block2_3_conv[0][0]']    \n",
            " ization)                                                                                         \n",
            "                                                                                                  \n",
            " conv2_block2_add (Add)         (None, 56, 56, 256)  0           ['conv2_block1_out[0][0]',       \n",
            "                                                                  'conv2_block2_3_bn[0][0]']      \n",
            "                                                                                                  \n",
            " conv2_block2_out (Activation)  (None, 56, 56, 256)  0           ['conv2_block2_add[0][0]']       \n",
            "                                                                                                  \n",
            " conv2_block3_1_conv (Conv2D)   (None, 56, 56, 64)   16448       ['conv2_block2_out[0][0]']       \n",
            "                                                                                                  \n",
            " conv2_block3_1_bn (BatchNormal  (None, 56, 56, 64)  256         ['conv2_block3_1_conv[0][0]']    \n",
            " ization)                                                                                         \n",
            "                                                                                                  \n",
            " conv2_block3_1_relu (Activatio  (None, 56, 56, 64)  0           ['conv2_block3_1_bn[0][0]']      \n",
            " n)                                                                                               \n",
            "                                                                                                  \n",
            " conv2_block3_2_conv (Conv2D)   (None, 56, 56, 64)   36928       ['conv2_block3_1_relu[0][0]']    \n",
            "                                                                                                  \n",
            " conv2_block3_2_bn (BatchNormal  (None, 56, 56, 64)  256         ['conv2_block3_2_conv[0][0]']    \n",
            " ization)                                                                                         \n",
            "                                                                                                  \n",
            " conv2_block3_2_relu (Activatio  (None, 56, 56, 64)  0           ['conv2_block3_2_bn[0][0]']      \n",
            " n)                                                                                               \n",
            "                                                                                                  \n",
            " conv2_block3_3_conv (Conv2D)   (None, 56, 56, 256)  16640       ['conv2_block3_2_relu[0][0]']    \n",
            "                                                                                                  \n",
            " conv2_block3_3_bn (BatchNormal  (None, 56, 56, 256)  1024       ['conv2_block3_3_conv[0][0]']    \n",
            " ization)                                                                                         \n",
            "                                                                                                  \n",
            " conv2_block3_add (Add)         (None, 56, 56, 256)  0           ['conv2_block2_out[0][0]',       \n",
            "                                                                  'conv2_block3_3_bn[0][0]']      \n",
            "                                                                                                  \n",
            " conv2_block3_out (Activation)  (None, 56, 56, 256)  0           ['conv2_block3_add[0][0]']       \n",
            "                                                                                                  \n",
            " conv3_block1_1_conv (Conv2D)   (None, 28, 28, 128)  32896       ['conv2_block3_out[0][0]']       \n",
            "                                                                                                  \n",
            " conv3_block1_1_bn (BatchNormal  (None, 28, 28, 128)  512        ['conv3_block1_1_conv[0][0]']    \n",
            " ization)                                                                                         \n",
            "                                                                                                  \n",
            " conv3_block1_1_relu (Activatio  (None, 28, 28, 128)  0          ['conv3_block1_1_bn[0][0]']      \n",
            " n)                                                                                               \n",
            "                                                                                                  \n",
            " conv3_block1_2_conv (Conv2D)   (None, 28, 28, 128)  147584      ['conv3_block1_1_relu[0][0]']    \n",
            "                                                                                                  \n",
            " conv3_block1_2_bn (BatchNormal  (None, 28, 28, 128)  512        ['conv3_block1_2_conv[0][0]']    \n",
            " ization)                                                                                         \n",
            "                                                                                                  \n",
            " conv3_block1_2_relu (Activatio  (None, 28, 28, 128)  0          ['conv3_block1_2_bn[0][0]']      \n",
            " n)                                                                                               \n",
            "                                                                                                  \n",
            " conv3_block1_0_conv (Conv2D)   (None, 28, 28, 512)  131584      ['conv2_block3_out[0][0]']       \n",
            "                                                                                                  \n",
            " conv3_block1_3_conv (Conv2D)   (None, 28, 28, 512)  66048       ['conv3_block1_2_relu[0][0]']    \n",
            "                                                                                                  \n",
            " conv3_block1_0_bn (BatchNormal  (None, 28, 28, 512)  2048       ['conv3_block1_0_conv[0][0]']    \n",
            " ization)                                                                                         \n",
            "                                                                                                  \n",
            " conv3_block1_3_bn (BatchNormal  (None, 28, 28, 512)  2048       ['conv3_block1_3_conv[0][0]']    \n",
            " ization)                                                                                         \n",
            "                                                                                                  \n",
            " conv3_block1_add (Add)         (None, 28, 28, 512)  0           ['conv3_block1_0_bn[0][0]',      \n",
            "                                                                  'conv3_block1_3_bn[0][0]']      \n",
            "                                                                                                  \n",
            " conv3_block1_out (Activation)  (None, 28, 28, 512)  0           ['conv3_block1_add[0][0]']       \n",
            "                                                                                                  \n",
            " conv3_block2_1_conv (Conv2D)   (None, 28, 28, 128)  65664       ['conv3_block1_out[0][0]']       \n",
            "                                                                                                  \n",
            " conv3_block2_1_bn (BatchNormal  (None, 28, 28, 128)  512        ['conv3_block2_1_conv[0][0]']    \n",
            " ization)                                                                                         \n",
            "                                                                                                  \n",
            " conv3_block2_1_relu (Activatio  (None, 28, 28, 128)  0          ['conv3_block2_1_bn[0][0]']      \n",
            " n)                                                                                               \n",
            "                                                                                                  \n",
            " conv3_block2_2_conv (Conv2D)   (None, 28, 28, 128)  147584      ['conv3_block2_1_relu[0][0]']    \n",
            "                                                                                                  \n",
            " conv3_block2_2_bn (BatchNormal  (None, 28, 28, 128)  512        ['conv3_block2_2_conv[0][0]']    \n",
            " ization)                                                                                         \n",
            "                                                                                                  \n",
            " conv3_block2_2_relu (Activatio  (None, 28, 28, 128)  0          ['conv3_block2_2_bn[0][0]']      \n",
            " n)                                                                                               \n",
            "                                                                                                  \n",
            " conv3_block2_3_conv (Conv2D)   (None, 28, 28, 512)  66048       ['conv3_block2_2_relu[0][0]']    \n",
            "                                                                                                  \n",
            " conv3_block2_3_bn (BatchNormal  (None, 28, 28, 512)  2048       ['conv3_block2_3_conv[0][0]']    \n",
            " ization)                                                                                         \n",
            "                                                                                                  \n",
            " conv3_block2_add (Add)         (None, 28, 28, 512)  0           ['conv3_block1_out[0][0]',       \n",
            "                                                                  'conv3_block2_3_bn[0][0]']      \n",
            "                                                                                                  \n",
            " conv3_block2_out (Activation)  (None, 28, 28, 512)  0           ['conv3_block2_add[0][0]']       \n",
            "                                                                                                  \n",
            " conv3_block3_1_conv (Conv2D)   (None, 28, 28, 128)  65664       ['conv3_block2_out[0][0]']       \n",
            "                                                                                                  \n",
            " conv3_block3_1_bn (BatchNormal  (None, 28, 28, 128)  512        ['conv3_block3_1_conv[0][0]']    \n",
            " ization)                                                                                         \n",
            "                                                                                                  \n",
            " conv3_block3_1_relu (Activatio  (None, 28, 28, 128)  0          ['conv3_block3_1_bn[0][0]']      \n",
            " n)                                                                                               \n",
            "                                                                                                  \n",
            " conv3_block3_2_conv (Conv2D)   (None, 28, 28, 128)  147584      ['conv3_block3_1_relu[0][0]']    \n",
            "                                                                                                  \n",
            " conv3_block3_2_bn (BatchNormal  (None, 28, 28, 128)  512        ['conv3_block3_2_conv[0][0]']    \n",
            " ization)                                                                                         \n",
            "                                                                                                  \n",
            " conv3_block3_2_relu (Activatio  (None, 28, 28, 128)  0          ['conv3_block3_2_bn[0][0]']      \n",
            " n)                                                                                               \n",
            "                                                                                                  \n",
            " conv3_block3_3_conv (Conv2D)   (None, 28, 28, 512)  66048       ['conv3_block3_2_relu[0][0]']    \n",
            "                                                                                                  \n",
            " conv3_block3_3_bn (BatchNormal  (None, 28, 28, 512)  2048       ['conv3_block3_3_conv[0][0]']    \n",
            " ization)                                                                                         \n",
            "                                                                                                  \n",
            " conv3_block3_add (Add)         (None, 28, 28, 512)  0           ['conv3_block2_out[0][0]',       \n",
            "                                                                  'conv3_block3_3_bn[0][0]']      \n",
            "                                                                                                  \n",
            " conv3_block3_out (Activation)  (None, 28, 28, 512)  0           ['conv3_block3_add[0][0]']       \n",
            "                                                                                                  \n",
            " conv3_block4_1_conv (Conv2D)   (None, 28, 28, 128)  65664       ['conv3_block3_out[0][0]']       \n",
            "                                                                                                  \n",
            " conv3_block4_1_bn (BatchNormal  (None, 28, 28, 128)  512        ['conv3_block4_1_conv[0][0]']    \n",
            " ization)                                                                                         \n",
            "                                                                                                  \n",
            " conv3_block4_1_relu (Activatio  (None, 28, 28, 128)  0          ['conv3_block4_1_bn[0][0]']      \n",
            " n)                                                                                               \n",
            "                                                                                                  \n",
            " conv3_block4_2_conv (Conv2D)   (None, 28, 28, 128)  147584      ['conv3_block4_1_relu[0][0]']    \n",
            "                                                                                                  \n",
            " conv3_block4_2_bn (BatchNormal  (None, 28, 28, 128)  512        ['conv3_block4_2_conv[0][0]']    \n",
            " ization)                                                                                         \n",
            "                                                                                                  \n",
            " conv3_block4_2_relu (Activatio  (None, 28, 28, 128)  0          ['conv3_block4_2_bn[0][0]']      \n",
            " n)                                                                                               \n",
            "                                                                                                  \n",
            " conv3_block4_3_conv (Conv2D)   (None, 28, 28, 512)  66048       ['conv3_block4_2_relu[0][0]']    \n",
            "                                                                                                  \n",
            " conv3_block4_3_bn (BatchNormal  (None, 28, 28, 512)  2048       ['conv3_block4_3_conv[0][0]']    \n",
            " ization)                                                                                         \n",
            "                                                                                                  \n",
            " conv3_block4_add (Add)         (None, 28, 28, 512)  0           ['conv3_block3_out[0][0]',       \n",
            "                                                                  'conv3_block4_3_bn[0][0]']      \n",
            "                                                                                                  \n",
            " conv3_block4_out (Activation)  (None, 28, 28, 512)  0           ['conv3_block4_add[0][0]']       \n",
            "                                                                                                  \n",
            " conv4_block1_1_conv (Conv2D)   (None, 14, 14, 256)  131328      ['conv3_block4_out[0][0]']       \n",
            "                                                                                                  \n",
            " conv4_block1_1_bn (BatchNormal  (None, 14, 14, 256)  1024       ['conv4_block1_1_conv[0][0]']    \n",
            " ization)                                                                                         \n",
            "                                                                                                  \n",
            " conv4_block1_1_relu (Activatio  (None, 14, 14, 256)  0          ['conv4_block1_1_bn[0][0]']      \n",
            " n)                                                                                               \n",
            "                                                                                                  \n",
            " conv4_block1_2_conv (Conv2D)   (None, 14, 14, 256)  590080      ['conv4_block1_1_relu[0][0]']    \n",
            "                                                                                                  \n",
            " conv4_block1_2_bn (BatchNormal  (None, 14, 14, 256)  1024       ['conv4_block1_2_conv[0][0]']    \n",
            " ization)                                                                                         \n",
            "                                                                                                  \n",
            " conv4_block1_2_relu (Activatio  (None, 14, 14, 256)  0          ['conv4_block1_2_bn[0][0]']      \n",
            " n)                                                                                               \n",
            "                                                                                                  \n",
            " conv4_block1_0_conv (Conv2D)   (None, 14, 14, 1024  525312      ['conv3_block4_out[0][0]']       \n",
            "                                )                                                                 \n",
            "                                                                                                  \n",
            " conv4_block1_3_conv (Conv2D)   (None, 14, 14, 1024  263168      ['conv4_block1_2_relu[0][0]']    \n",
            "                                )                                                                 \n",
            "                                                                                                  \n",
            " conv4_block1_0_bn (BatchNormal  (None, 14, 14, 1024  4096       ['conv4_block1_0_conv[0][0]']    \n",
            " ization)                       )                                                                 \n",
            "                                                                                                  \n",
            " conv4_block1_3_bn (BatchNormal  (None, 14, 14, 1024  4096       ['conv4_block1_3_conv[0][0]']    \n",
            " ization)                       )                                                                 \n",
            "                                                                                                  \n",
            " conv4_block1_add (Add)         (None, 14, 14, 1024  0           ['conv4_block1_0_bn[0][0]',      \n",
            "                                )                                 'conv4_block1_3_bn[0][0]']      \n",
            "                                                                                                  \n",
            " conv4_block1_out (Activation)  (None, 14, 14, 1024  0           ['conv4_block1_add[0][0]']       \n",
            "                                )                                                                 \n",
            "                                                                                                  \n",
            " conv4_block2_1_conv (Conv2D)   (None, 14, 14, 256)  262400      ['conv4_block1_out[0][0]']       \n",
            "                                                                                                  \n",
            " conv4_block2_1_bn (BatchNormal  (None, 14, 14, 256)  1024       ['conv4_block2_1_conv[0][0]']    \n",
            " ization)                                                                                         \n",
            "                                                                                                  \n",
            " conv4_block2_1_relu (Activatio  (None, 14, 14, 256)  0          ['conv4_block2_1_bn[0][0]']      \n",
            " n)                                                                                               \n",
            "                                                                                                  \n",
            " conv4_block2_2_conv (Conv2D)   (None, 14, 14, 256)  590080      ['conv4_block2_1_relu[0][0]']    \n",
            "                                                                                                  \n",
            " conv4_block2_2_bn (BatchNormal  (None, 14, 14, 256)  1024       ['conv4_block2_2_conv[0][0]']    \n",
            " ization)                                                                                         \n",
            "                                                                                                  \n",
            " conv4_block2_2_relu (Activatio  (None, 14, 14, 256)  0          ['conv4_block2_2_bn[0][0]']      \n",
            " n)                                                                                               \n",
            "                                                                                                  \n",
            " conv4_block2_3_conv (Conv2D)   (None, 14, 14, 1024  263168      ['conv4_block2_2_relu[0][0]']    \n",
            "                                )                                                                 \n",
            "                                                                                                  \n",
            " conv4_block2_3_bn (BatchNormal  (None, 14, 14, 1024  4096       ['conv4_block2_3_conv[0][0]']    \n",
            " ization)                       )                                                                 \n",
            "                                                                                                  \n",
            " conv4_block2_add (Add)         (None, 14, 14, 1024  0           ['conv4_block1_out[0][0]',       \n",
            "                                )                                 'conv4_block2_3_bn[0][0]']      \n",
            "                                                                                                  \n",
            " conv4_block2_out (Activation)  (None, 14, 14, 1024  0           ['conv4_block2_add[0][0]']       \n",
            "                                )                                                                 \n",
            "                                                                                                  \n",
            " conv4_block3_1_conv (Conv2D)   (None, 14, 14, 256)  262400      ['conv4_block2_out[0][0]']       \n",
            "                                                                                                  \n",
            " conv4_block3_1_bn (BatchNormal  (None, 14, 14, 256)  1024       ['conv4_block3_1_conv[0][0]']    \n",
            " ization)                                                                                         \n",
            "                                                                                                  \n",
            " conv4_block3_1_relu (Activatio  (None, 14, 14, 256)  0          ['conv4_block3_1_bn[0][0]']      \n",
            " n)                                                                                               \n",
            "                                                                                                  \n",
            " conv4_block3_2_conv (Conv2D)   (None, 14, 14, 256)  590080      ['conv4_block3_1_relu[0][0]']    \n",
            "                                                                                                  \n",
            " conv4_block3_2_bn (BatchNormal  (None, 14, 14, 256)  1024       ['conv4_block3_2_conv[0][0]']    \n",
            " ization)                                                                                         \n",
            "                                                                                                  \n",
            " conv4_block3_2_relu (Activatio  (None, 14, 14, 256)  0          ['conv4_block3_2_bn[0][0]']      \n",
            " n)                                                                                               \n",
            "                                                                                                  \n",
            " conv4_block3_3_conv (Conv2D)   (None, 14, 14, 1024  263168      ['conv4_block3_2_relu[0][0]']    \n",
            "                                )                                                                 \n",
            "                                                                                                  \n",
            " conv4_block3_3_bn (BatchNormal  (None, 14, 14, 1024  4096       ['conv4_block3_3_conv[0][0]']    \n",
            " ization)                       )                                                                 \n",
            "                                                                                                  \n",
            " conv4_block3_add (Add)         (None, 14, 14, 1024  0           ['conv4_block2_out[0][0]',       \n",
            "                                )                                 'conv4_block3_3_bn[0][0]']      \n",
            "                                                                                                  \n",
            " conv4_block3_out (Activation)  (None, 14, 14, 1024  0           ['conv4_block3_add[0][0]']       \n",
            "                                )                                                                 \n",
            "                                                                                                  \n",
            " conv4_block4_1_conv (Conv2D)   (None, 14, 14, 256)  262400      ['conv4_block3_out[0][0]']       \n",
            "                                                                                                  \n",
            " conv4_block4_1_bn (BatchNormal  (None, 14, 14, 256)  1024       ['conv4_block4_1_conv[0][0]']    \n",
            " ization)                                                                                         \n",
            "                                                                                                  \n",
            " conv4_block4_1_relu (Activatio  (None, 14, 14, 256)  0          ['conv4_block4_1_bn[0][0]']      \n",
            " n)                                                                                               \n",
            "                                                                                                  \n",
            " conv4_block4_2_conv (Conv2D)   (None, 14, 14, 256)  590080      ['conv4_block4_1_relu[0][0]']    \n",
            "                                                                                                  \n",
            " conv4_block4_2_bn (BatchNormal  (None, 14, 14, 256)  1024       ['conv4_block4_2_conv[0][0]']    \n",
            " ization)                                                                                         \n",
            "                                                                                                  \n",
            " conv4_block4_2_relu (Activatio  (None, 14, 14, 256)  0          ['conv4_block4_2_bn[0][0]']      \n",
            " n)                                                                                               \n",
            "                                                                                                  \n",
            " conv4_block4_3_conv (Conv2D)   (None, 14, 14, 1024  263168      ['conv4_block4_2_relu[0][0]']    \n",
            "                                )                                                                 \n",
            "                                                                                                  \n",
            " conv4_block4_3_bn (BatchNormal  (None, 14, 14, 1024  4096       ['conv4_block4_3_conv[0][0]']    \n",
            " ization)                       )                                                                 \n",
            "                                                                                                  \n",
            " conv4_block4_add (Add)         (None, 14, 14, 1024  0           ['conv4_block3_out[0][0]',       \n",
            "                                )                                 'conv4_block4_3_bn[0][0]']      \n",
            "                                                                                                  \n",
            " conv4_block4_out (Activation)  (None, 14, 14, 1024  0           ['conv4_block4_add[0][0]']       \n",
            "                                )                                                                 \n",
            "                                                                                                  \n",
            " conv4_block5_1_conv (Conv2D)   (None, 14, 14, 256)  262400      ['conv4_block4_out[0][0]']       \n",
            "                                                                                                  \n",
            " conv4_block5_1_bn (BatchNormal  (None, 14, 14, 256)  1024       ['conv4_block5_1_conv[0][0]']    \n",
            " ization)                                                                                         \n",
            "                                                                                                  \n",
            " conv4_block5_1_relu (Activatio  (None, 14, 14, 256)  0          ['conv4_block5_1_bn[0][0]']      \n",
            " n)                                                                                               \n",
            "                                                                                                  \n",
            " conv4_block5_2_conv (Conv2D)   (None, 14, 14, 256)  590080      ['conv4_block5_1_relu[0][0]']    \n",
            "                                                                                                  \n",
            " conv4_block5_2_bn (BatchNormal  (None, 14, 14, 256)  1024       ['conv4_block5_2_conv[0][0]']    \n",
            " ization)                                                                                         \n",
            "                                                                                                  \n",
            " conv4_block5_2_relu (Activatio  (None, 14, 14, 256)  0          ['conv4_block5_2_bn[0][0]']      \n",
            " n)                                                                                               \n",
            "                                                                                                  \n",
            " conv4_block5_3_conv (Conv2D)   (None, 14, 14, 1024  263168      ['conv4_block5_2_relu[0][0]']    \n",
            "                                )                                                                 \n",
            "                                                                                                  \n",
            " conv4_block5_3_bn (BatchNormal  (None, 14, 14, 1024  4096       ['conv4_block5_3_conv[0][0]']    \n",
            " ization)                       )                                                                 \n",
            "                                                                                                  \n",
            " conv4_block5_add (Add)         (None, 14, 14, 1024  0           ['conv4_block4_out[0][0]',       \n",
            "                                )                                 'conv4_block5_3_bn[0][0]']      \n",
            "                                                                                                  \n",
            " conv4_block5_out (Activation)  (None, 14, 14, 1024  0           ['conv4_block5_add[0][0]']       \n",
            "                                )                                                                 \n",
            "                                                                                                  \n",
            " conv4_block6_1_conv (Conv2D)   (None, 14, 14, 256)  262400      ['conv4_block5_out[0][0]']       \n",
            "                                                                                                  \n",
            " conv4_block6_1_bn (BatchNormal  (None, 14, 14, 256)  1024       ['conv4_block6_1_conv[0][0]']    \n",
            " ization)                                                                                         \n",
            "                                                                                                  \n",
            " conv4_block6_1_relu (Activatio  (None, 14, 14, 256)  0          ['conv4_block6_1_bn[0][0]']      \n",
            " n)                                                                                               \n",
            "                                                                                                  \n",
            " conv4_block6_2_conv (Conv2D)   (None, 14, 14, 256)  590080      ['conv4_block6_1_relu[0][0]']    \n",
            "                                                                                                  \n",
            " conv4_block6_2_bn (BatchNormal  (None, 14, 14, 256)  1024       ['conv4_block6_2_conv[0][0]']    \n",
            " ization)                                                                                         \n",
            "                                                                                                  \n",
            " conv4_block6_2_relu (Activatio  (None, 14, 14, 256)  0          ['conv4_block6_2_bn[0][0]']      \n",
            " n)                                                                                               \n",
            "                                                                                                  \n",
            " conv4_block6_3_conv (Conv2D)   (None, 14, 14, 1024  263168      ['conv4_block6_2_relu[0][0]']    \n",
            "                                )                                                                 \n",
            "                                                                                                  \n",
            " conv4_block6_3_bn (BatchNormal  (None, 14, 14, 1024  4096       ['conv4_block6_3_conv[0][0]']    \n",
            " ization)                       )                                                                 \n",
            "                                                                                                  \n",
            " conv4_block6_add (Add)         (None, 14, 14, 1024  0           ['conv4_block5_out[0][0]',       \n",
            "                                )                                 'conv4_block6_3_bn[0][0]']      \n",
            "                                                                                                  \n",
            " conv4_block6_out (Activation)  (None, 14, 14, 1024  0           ['conv4_block6_add[0][0]']       \n",
            "                                )                                                                 \n",
            "                                                                                                  \n",
            " conv5_block1_1_conv (Conv2D)   (None, 7, 7, 512)    524800      ['conv4_block6_out[0][0]']       \n",
            "                                                                                                  \n",
            " conv5_block1_1_bn (BatchNormal  (None, 7, 7, 512)   2048        ['conv5_block1_1_conv[0][0]']    \n",
            " ization)                                                                                         \n",
            "                                                                                                  \n",
            " conv5_block1_1_relu (Activatio  (None, 7, 7, 512)   0           ['conv5_block1_1_bn[0][0]']      \n",
            " n)                                                                                               \n",
            "                                                                                                  \n",
            " conv5_block1_2_conv (Conv2D)   (None, 7, 7, 512)    2359808     ['conv5_block1_1_relu[0][0]']    \n",
            "                                                                                                  \n",
            " conv5_block1_2_bn (BatchNormal  (None, 7, 7, 512)   2048        ['conv5_block1_2_conv[0][0]']    \n",
            " ization)                                                                                         \n",
            "                                                                                                  \n",
            " conv5_block1_2_relu (Activatio  (None, 7, 7, 512)   0           ['conv5_block1_2_bn[0][0]']      \n",
            " n)                                                                                               \n",
            "                                                                                                  \n",
            " conv5_block1_0_conv (Conv2D)   (None, 7, 7, 2048)   2099200     ['conv4_block6_out[0][0]']       \n",
            "                                                                                                  \n",
            " conv5_block1_3_conv (Conv2D)   (None, 7, 7, 2048)   1050624     ['conv5_block1_2_relu[0][0]']    \n",
            "                                                                                                  \n",
            " conv5_block1_0_bn (BatchNormal  (None, 7, 7, 2048)  8192        ['conv5_block1_0_conv[0][0]']    \n",
            " ization)                                                                                         \n",
            "                                                                                                  \n",
            " conv5_block1_3_bn (BatchNormal  (None, 7, 7, 2048)  8192        ['conv5_block1_3_conv[0][0]']    \n",
            " ization)                                                                                         \n",
            "                                                                                                  \n",
            " conv5_block1_add (Add)         (None, 7, 7, 2048)   0           ['conv5_block1_0_bn[0][0]',      \n",
            "                                                                  'conv5_block1_3_bn[0][0]']      \n",
            "                                                                                                  \n",
            " conv5_block1_out (Activation)  (None, 7, 7, 2048)   0           ['conv5_block1_add[0][0]']       \n",
            "                                                                                                  \n",
            " conv5_block2_1_conv (Conv2D)   (None, 7, 7, 512)    1049088     ['conv5_block1_out[0][0]']       \n",
            "                                                                                                  \n",
            " conv5_block2_1_bn (BatchNormal  (None, 7, 7, 512)   2048        ['conv5_block2_1_conv[0][0]']    \n",
            " ization)                                                                                         \n",
            "                                                                                                  \n",
            " conv5_block2_1_relu (Activatio  (None, 7, 7, 512)   0           ['conv5_block2_1_bn[0][0]']      \n",
            " n)                                                                                               \n",
            "                                                                                                  \n",
            " conv5_block2_2_conv (Conv2D)   (None, 7, 7, 512)    2359808     ['conv5_block2_1_relu[0][0]']    \n",
            "                                                                                                  \n",
            " conv5_block2_2_bn (BatchNormal  (None, 7, 7, 512)   2048        ['conv5_block2_2_conv[0][0]']    \n",
            " ization)                                                                                         \n",
            "                                                                                                  \n",
            " conv5_block2_2_relu (Activatio  (None, 7, 7, 512)   0           ['conv5_block2_2_bn[0][0]']      \n",
            " n)                                                                                               \n",
            "                                                                                                  \n",
            " conv5_block2_3_conv (Conv2D)   (None, 7, 7, 2048)   1050624     ['conv5_block2_2_relu[0][0]']    \n",
            "                                                                                                  \n",
            " conv5_block2_3_bn (BatchNormal  (None, 7, 7, 2048)  8192        ['conv5_block2_3_conv[0][0]']    \n",
            " ization)                                                                                         \n",
            "                                                                                                  \n",
            " conv5_block2_add (Add)         (None, 7, 7, 2048)   0           ['conv5_block1_out[0][0]',       \n",
            "                                                                  'conv5_block2_3_bn[0][0]']      \n",
            "                                                                                                  \n",
            " conv5_block2_out (Activation)  (None, 7, 7, 2048)   0           ['conv5_block2_add[0][0]']       \n",
            "                                                                                                  \n",
            " conv5_block3_1_conv (Conv2D)   (None, 7, 7, 512)    1049088     ['conv5_block2_out[0][0]']       \n",
            "                                                                                                  \n",
            " conv5_block3_1_bn (BatchNormal  (None, 7, 7, 512)   2048        ['conv5_block3_1_conv[0][0]']    \n",
            " ization)                                                                                         \n",
            "                                                                                                  \n",
            " conv5_block3_1_relu (Activatio  (None, 7, 7, 512)   0           ['conv5_block3_1_bn[0][0]']      \n",
            " n)                                                                                               \n",
            "                                                                                                  \n",
            " conv5_block3_2_conv (Conv2D)   (None, 7, 7, 512)    2359808     ['conv5_block3_1_relu[0][0]']    \n",
            "                                                                                                  \n",
            " conv5_block3_2_bn (BatchNormal  (None, 7, 7, 512)   2048        ['conv5_block3_2_conv[0][0]']    \n",
            " ization)                                                                                         \n",
            "                                                                                                  \n",
            " conv5_block3_2_relu (Activatio  (None, 7, 7, 512)   0           ['conv5_block3_2_bn[0][0]']      \n",
            " n)                                                                                               \n",
            "                                                                                                  \n",
            " conv5_block3_3_conv (Conv2D)   (None, 7, 7, 2048)   1050624     ['conv5_block3_2_relu[0][0]']    \n",
            "                                                                                                  \n",
            " conv5_block3_3_bn (BatchNormal  (None, 7, 7, 2048)  8192        ['conv5_block3_3_conv[0][0]']    \n",
            " ization)                                                                                         \n",
            "                                                                                                  \n",
            " conv5_block3_add (Add)         (None, 7, 7, 2048)   0           ['conv5_block2_out[0][0]',       \n",
            "                                                                  'conv5_block3_3_bn[0][0]']      \n",
            "                                                                                                  \n",
            " conv5_block3_out (Activation)  (None, 7, 7, 2048)   0           ['conv5_block3_add[0][0]']       \n",
            "                                                                                                  \n",
            " global_average_pooling2d_7 (Gl  (None, 2048)        0           ['conv5_block3_out[0][0]']       \n",
            " obalAveragePooling2D)                                                                            \n",
            "                                                                                                  \n",
            " dense_30 (Dense)               (None, 512)          1049088     ['global_average_pooling2d_7[0][0\n",
            "                                                                 ]']                              \n",
            "                                                                                                  \n",
            " dense_31 (Dense)               (None, 1)            513         ['dense_30[0][0]']               \n",
            "                                                                                                  \n",
            "==================================================================================================\n",
            "Total params: 24,637,313\n",
            "Trainable params: 1,049,601\n",
            "Non-trainable params: 23,587,712\n",
            "__________________________________________________________________________________________________\n"
          ]
        }
      ],
      "source": [
        "model.summary()"
      ]
    },
    {
      "cell_type": "code",
      "execution_count": 448,
      "metadata": {
        "id": "vugxztqMsNCq"
      },
      "outputs": [],
      "source": [
        "model.compile(optimizer='adam', loss='binary_crossentropy', metrics=['accuracy'])\n"
      ]
    },
    {
      "cell_type": "code",
      "execution_count": 449,
      "metadata": {
        "colab": {
          "base_uri": "https://localhost:8080/"
        },
        "id": "WrPk-i0gsYOb",
        "outputId": "ca8f8693-0fd8-4e80-fe9d-cd754f335269"
      },
      "outputs": [
        {
          "name": "stdout",
          "output_type": "stream",
          "text": [
            "Found 416 images belonging to 2 classes.\n",
            "Found 144 images belonging to 2 classes.\n"
          ]
        }
      ],
      "source": [
        "from tensorflow.keras.preprocessing.image import ImageDataGenerator\n",
        "\n",
        "\n",
        "train_datagen = ImageDataGenerator(rescale=1./255,\n",
        "                                   shear_range=0.2,\n",
        "                                   zoom_range=0.2,\n",
        "                                   horizontal_flip=True)\n",
        "\n",
        "test_datagen = ImageDataGenerator(rescale=1./255)\n",
        "\n",
        "\n",
        "train_dir = train_path\n",
        "test_dir = test_path\n",
        "\n",
        "\n",
        "batch_size = 32\n",
        "image_size = (224, 224)\n",
        "\n",
        "train_generator = train_datagen.flow_from_directory(train_dir,\n",
        "                                                    target_size=image_size,\n",
        "                                                    batch_size=batch_size,\n",
        "                                                    class_mode='binary')\n",
        "\n",
        "\n",
        "test_generator = test_datagen.flow_from_directory(test_dir,\n",
        "                                                  target_size=image_size,\n",
        "                                                  batch_size=batch_size,\n",
        "                                                  class_mode='binary')\n",
        "\n",
        "\n"
      ]
    },
    {
      "cell_type": "code",
      "execution_count": 450,
      "metadata": {
        "colab": {
          "base_uri": "https://localhost:8080/"
        },
        "id": "1a9ttcx9g4fe",
        "outputId": "61813453-b6f1-43a8-c37b-a3b8ba9deec5"
      },
      "outputs": [
        {
          "name": "stdout",
          "output_type": "stream",
          "text": [
            "Epoch 1/10\n",
            "13/13 [==============================] - 11s 604ms/step - loss: 0.7992 - accuracy: 0.5144 - val_loss: 0.6928 - val_accuracy: 0.5139\n",
            "Epoch 2/10\n",
            "13/13 [==============================] - 6s 450ms/step - loss: 0.7508 - accuracy: 0.4928 - val_loss: 0.6038 - val_accuracy: 0.7014\n",
            "Epoch 3/10\n",
            "13/13 [==============================] - 7s 539ms/step - loss: 0.7250 - accuracy: 0.5264 - val_loss: 0.6097 - val_accuracy: 0.7014\n",
            "Epoch 4/10\n",
            "13/13 [==============================] - 6s 451ms/step - loss: 0.6977 - accuracy: 0.4760 - val_loss: 0.6740 - val_accuracy: 0.7083\n",
            "Epoch 5/10\n",
            "13/13 [==============================] - 7s 547ms/step - loss: 0.6814 - accuracy: 0.5312 - val_loss: 0.6918 - val_accuracy: 0.4167\n",
            "Epoch 6/10\n",
            "13/13 [==============================] - 6s 449ms/step - loss: 0.6796 - accuracy: 0.5625 - val_loss: 0.7493 - val_accuracy: 0.3472\n",
            "Epoch 7/10\n",
            "13/13 [==============================] - 6s 450ms/step - loss: 0.6927 - accuracy: 0.5192 - val_loss: 0.6436 - val_accuracy: 0.7986\n",
            "Epoch 8/10\n",
            "13/13 [==============================] - 8s 653ms/step - loss: 0.6720 - accuracy: 0.5865 - val_loss: 0.6192 - val_accuracy: 0.7222\n",
            "Epoch 9/10\n",
            "13/13 [==============================] - 6s 455ms/step - loss: 0.6965 - accuracy: 0.5481 - val_loss: 0.6687 - val_accuracy: 0.5000\n",
            "Epoch 10/10\n",
            "13/13 [==============================] - 7s 542ms/step - loss: 0.7592 - accuracy: 0.5072 - val_loss: 1.0232 - val_accuracy: 0.2986\n"
          ]
        }
      ],
      "source": [
        "\n",
        "result = model.fit(train_generator,\n",
        "          epochs=10,\n",
        "          validation_data=test_generator)"
      ]
    },
    {
      "cell_type": "code",
      "execution_count": 451,
      "metadata": {
        "colab": {
          "base_uri": "https://localhost:8080/",
          "height": 927
        },
        "id": "ErsHJSCqtqPU",
        "outputId": "ce3655de-1746-4bc8-f35e-c56b9f1e807b"
      },
      "outputs": [
        {
          "data": {
            "image/png": "[encoded data removed]",
            "text/plain": [
              "<Figure size 640x480 with 1 Axes>"
            ]
          },
          "metadata": {},
          "output_type": "display_data"
        },
        {
          "data": {
            "image/png": "[encoded data removed]",
            "text/plain": [
              "<Figure size 640x480 with 1 Axes>"
            ]
          },
          "metadata": {},
          "output_type": "display_data"
        }
      ],
      "source": [
        "plotLearningCurve(result1,10)"
      ]
    },
    {
      "cell_type": "code",
      "execution_count": 452,
      "metadata": {
        "colab": {
          "base_uri": "https://localhost:8080/"
        },
        "id": "GbIF-nHUgpqZ",
        "outputId": "c92a5021-7d8b-4355-f69d-029b308e3248"
      },
      "outputs": [
        {
          "name": "stdout",
          "output_type": "stream",
          "text": [
            "5/5 [==============================] - 1s 106ms/step\n"
          ]
        },
        {
          "data": {
            "text/plain": [
              "array([[0.73420477],\n",
              "       [0.7682435 ],\n",
              "       [0.78307766],\n",
              "       [0.79886186],\n",
              "       [0.75007755],\n",
              "       [0.74899864],\n",
              "       [0.73526734],\n",
              "       [0.5145874 ],\n",
              "       [0.79579586],\n",
              "       [0.77438474],\n",
              "       [0.72618324],\n",
              "       [0.7623758 ],\n",
              "       [0.7564603 ],\n",
              "       [0.7459563 ],\n",
              "       [0.77029204],\n",
              "       [0.7492827 ],\n",
              "       [0.7764201 ],\n",
              "       [0.74116075],\n",
              "       [0.77987134],\n",
              "       [0.73394656],\n",
              "       [0.7335965 ],\n",
              "       [0.7879724 ],\n",
              "       [0.800204  ],\n",
              "       [0.76015687],\n",
              "       [0.7510113 ],\n",
              "       [0.7583489 ],\n",
              "       [0.7551834 ],\n",
              "       [0.81101006],\n",
              "       [0.70495933],\n",
              "       [0.6871996 ],\n",
              "       [0.77972215],\n",
              "       [0.67967474],\n",
              "       [0.82586557],\n",
              "       [0.79207826],\n",
              "       [0.75196785],\n",
              "       [0.69401985],\n",
              "       [0.7453212 ],\n",
              "       [0.78152806],\n",
              "       [0.763246  ],\n",
              "       [0.7972421 ],\n",
              "       [0.73814875],\n",
              "       [0.7713968 ],\n",
              "       [0.7509469 ],\n",
              "       [0.7623758 ],\n",
              "       [0.57551146],\n",
              "       [0.7829512 ],\n",
              "       [0.7509514 ],\n",
              "       [0.78470093],\n",
              "       [0.77110505],\n",
              "       [0.7659821 ],\n",
              "       [0.5840896 ],\n",
              "       [0.7864897 ],\n",
              "       [0.725805  ],\n",
              "       [0.67686856],\n",
              "       [0.78904104],\n",
              "       [0.67183137],\n",
              "       [0.76777333],\n",
              "       [0.7006005 ],\n",
              "       [0.7553524 ],\n",
              "       [0.7968109 ],\n",
              "       [0.78829175],\n",
              "       [0.79071856],\n",
              "       [0.7957953 ],\n",
              "       [0.69125926],\n",
              "       [0.7665106 ],\n",
              "       [0.73364943],\n",
              "       [0.7544366 ],\n",
              "       [0.7712226 ],\n",
              "       [0.7630119 ],\n",
              "       [0.71717906],\n",
              "       [0.7812711 ],\n",
              "       [0.7725779 ],\n",
              "       [0.7682435 ],\n",
              "       [0.78052187],\n",
              "       [0.75526196],\n",
              "       [0.80246073],\n",
              "       [0.8119764 ],\n",
              "       [0.79749185],\n",
              "       [0.7941805 ],\n",
              "       [0.70519495],\n",
              "       [0.6805951 ],\n",
              "       [0.7476079 ],\n",
              "       [0.78829175],\n",
              "       [0.7533129 ],\n",
              "       [0.7335965 ],\n",
              "       [0.7500582 ],\n",
              "       [0.58839816],\n",
              "       [0.74423313],\n",
              "       [0.60528314],\n",
              "       [0.7868631 ],\n",
              "       [0.77438474],\n",
              "       [0.7705204 ],\n",
              "       [0.7562602 ],\n",
              "       [0.78429115],\n",
              "       [0.7499547 ],\n",
              "       [0.73011434],\n",
              "       [0.7595486 ],\n",
              "       [0.58361477],\n",
              "       [0.75686973],\n",
              "       [0.7413745 ],\n",
              "       [0.7668928 ],\n",
              "       [0.6735655 ],\n",
              "       [0.7788118 ],\n",
              "       [0.63422275],\n",
              "       [0.63911545],\n",
              "       [0.682108  ],\n",
              "       [0.6896684 ],\n",
              "       [0.78509754],\n",
              "       [0.7665106 ],\n",
              "       [0.75478196],\n",
              "       [0.7455223 ],\n",
              "       [0.75466126],\n",
              "       [0.7429593 ],\n",
              "       [0.77044314],\n",
              "       [0.74727654],\n",
              "       [0.7453212 ],\n",
              "       [0.7546689 ],\n",
              "       [0.7666938 ],\n",
              "       [0.759437  ],\n",
              "       [0.74794453],\n",
              "       [0.70630085],\n",
              "       [0.7399413 ],\n",
              "       [0.78822345],\n",
              "       [0.74625874],\n",
              "       [0.63224673],\n",
              "       [0.7139752 ],\n",
              "       [0.7537963 ],\n",
              "       [0.7589527 ],\n",
              "       [0.7514269 ],\n",
              "       [0.78605664],\n",
              "       [0.783303  ],\n",
              "       [0.7444144 ],\n",
              "       [0.7462587 ],\n",
              "       [0.75308   ],\n",
              "       [0.7553524 ],\n",
              "       [0.7664932 ],\n",
              "       [0.74145687],\n",
              "       [0.70110464],\n",
              "       [0.73786014],\n",
              "       [0.7397266 ],\n",
              "       [0.7649472 ],\n",
              "       [0.7029121 ],\n",
              "       [0.75379616],\n",
              "       [0.69467056]], dtype=float32)"
            ]
          },
          "execution_count": 452,
          "metadata": {},
          "output_type": "execute_result"
        }
      ],
      "source": [
        "predict = model.predict(test_generator)\n",
        "predict"
      ]
    },
    {
      "cell_type": "code",
      "execution_count": 453,
      "metadata": {
        "colab": {
          "base_uri": "https://localhost:8080/"
        },
        "id": "ViS4PQSdhVhr",
        "outputId": "dd113cc9-4ed3-4700-87e8-4d85ec87982f"
      },
      "outputs": [
        {
          "data": {
            "text/plain": [
              "array([1, 1, 1, 1, 1, 1, 1, 1, 1, 1, 1, 1, 1, 1, 1, 1, 1, 1, 1, 1, 1, 1,\n",
              "       1, 1, 1, 1, 1, 1, 1, 1, 1, 1, 1, 1, 1, 1, 1, 1, 1, 1, 1, 1, 1, 1,\n",
              "       1, 1, 1, 1, 1, 1, 1, 1, 1, 1, 1, 1, 1, 1, 1, 1, 1, 1, 1, 1, 1, 1,\n",
              "       1, 1, 1, 1, 1, 1, 1, 1, 1, 1, 1, 1, 1, 1, 1, 1, 1, 1, 1, 1, 1, 1,\n",
              "       1, 1, 1, 1, 1, 1, 1, 1, 1, 1, 1, 1, 1, 1, 1, 1, 1, 1, 1, 1, 1, 1,\n",
              "       1, 1, 1, 1, 1, 1, 1, 1, 1, 1, 1, 1, 1, 1, 1, 1, 1, 1, 1, 1, 1, 1,\n",
              "       1, 1, 1, 1, 1, 1, 1, 1, 1, 1, 1, 1])"
            ]
          },
          "execution_count": 453,
          "metadata": {},
          "output_type": "execute_result"
        }
      ],
      "source": [
        "preddict = predict>0.5\n",
        "preddict = preddict.astype(int)\n",
        "predict_labels = preddict.flatten()\n",
        "predict_labels\n",
        "\n"
      ]
    },
    {
      "cell_type": "code",
      "execution_count": 454,
      "metadata": {
        "colab": {
          "base_uri": "https://localhost:8080/"
        },
        "id": "H7fBPjsc1yb3",
        "outputId": "7f9433aa-c8ec-4351-b5eb-bc23da206162"
      },
      "outputs": [
        {
          "data": {
            "text/plain": [
              "144"
            ]
          },
          "execution_count": 454,
          "metadata": {},
          "output_type": "execute_result"
        }
      ],
      "source": [
        "len(test_generator.classes)"
      ]
    },
    {
      "cell_type": "code",
      "execution_count": 455,
      "metadata": {
        "colab": {
          "base_uri": "https://localhost:8080/"
        },
        "id": "Aj6sW1wzhZy4",
        "outputId": "ac1c99e2-1906-4a54-f56a-55d2ba0ff687"
      },
      "outputs": [
        {
          "name": "stdout",
          "output_type": "stream",
          "text": [
            "              precision    recall  f1-score   support\n",
            "\n",
            "           0       0.00      0.00      0.00       101\n",
            "           1       0.30      1.00      0.46        43\n",
            "\n",
            "    accuracy                           0.30       144\n",
            "   macro avg       0.15      0.50      0.23       144\n",
            "weighted avg       0.09      0.30      0.14       144\n",
            "\n"
          ]
        },
        {
          "name": "stderr",
          "output_type": "stream",
          "text": [
            "/usr/local/lib/python3.10/dist-packages/sklearn/metrics/_classification.py:1344: UndefinedMetricWarning: Precision and F-score are ill-defined and being set to 0.0 in labels with no predicted samples. Use `zero_division` parameter to control this behavior.\n",
            "  _warn_prf(average, modifier, msg_start, len(result))\n",
            "/usr/local/lib/python3.10/dist-packages/sklearn/metrics/_classification.py:1344: UndefinedMetricWarning: Precision and F-score are ill-defined and being set to 0.0 in labels with no predicted samples. Use `zero_division` parameter to control this behavior.\n",
            "  _warn_prf(average, modifier, msg_start, len(result))\n",
            "/usr/local/lib/python3.10/dist-packages/sklearn/metrics/_classification.py:1344: UndefinedMetricWarning: Precision and F-score are ill-defined and being set to 0.0 in labels with no predicted samples. Use `zero_division` parameter to control this behavior.\n",
            "  _warn_prf(average, modifier, msg_start, len(result))\n"
          ]
        }
      ],
      "source": [
        "print(classification_report(test_generator.classes,predict_labels))"
      ]
    },
    {
      "cell_type": "code",
      "execution_count": 456,
      "metadata": {
        "id": "IBcjCXfygfjs"
      },
      "outputs": [],
      "source": [
        "prec_score = precision_score(test_generator.classes, predict_labels)\n",
        "preciss.append(prec_score)\n",
        "accuracy= accuracy_score(test_generator.classes, predict_labels)\n",
        "acc.append(accuracy)\n"
      ]
    },
    {
      "cell_type": "markdown",
      "metadata": {
        "id": "ddiEtldpu14z"
      },
      "source": [
        "# MobileNetV2"
      ]
    },
    {
      "cell_type": "code",
      "execution_count": 457,
      "metadata": {
        "id": "RDrUn7PpJd6H"
      },
      "outputs": [],
      "source": [
        "from tensorflow.keras.applications import MobileNetV2"
      ]
    },
    {
      "cell_type": "code",
      "execution_count": 458,
      "metadata": {
        "id": "LABIOvKKJylP"
      },
      "outputs": [],
      "source": [
        "mobilenet = Sequential()"
      ]
    },
    {
      "cell_type": "code",
      "execution_count": 459,
      "metadata": {
        "id": "rd8AxiTMvDGN"
      },
      "outputs": [],
      "source": [
        "pretrained_model  = tf.keras.applications.MobileNet(\n",
        "    input_shape=(224,224,3),\n",
        "    alpha=1.0,\n",
        "    depth_multiplier=1,\n",
        "    dropout=0.001,\n",
        "    include_top=False,\n",
        "    weights=\"imagenet\",\n",
        "    \n",
        "\n",
        ")"
      ]
    },
    {
      "cell_type": "code",
      "execution_count": 460,
      "metadata": {
        "id": "RV55IVlMvIzd"
      },
      "outputs": [],
      "source": [
        "for layers in pretrained_model.layers:\n",
        "  layers.trainable = False\n"
      ]
    },
    {
      "cell_type": "code",
      "execution_count": 461,
      "metadata": {
        "id": "VWwSlVh9wBk4"
      },
      "outputs": [],
      "source": [
        "mobilenet.add(pretrained_model)\n",
        "mobilenet.add(Flatten())\n",
        "mobilenet.add(Dense(128,activation = 'relu'))\n",
        "mobilenet.add(Dense(1,activation = 'softmax'))"
      ]
    },
    {
      "cell_type": "code",
      "execution_count": 462,
      "metadata": {
        "colab": {
          "base_uri": "https://localhost:8080/"
        },
        "id": "BFd80iA_wois",
        "outputId": "f9050528-fa42-4fb2-b270-bebf7657cedc"
      },
      "outputs": [
        {
          "name": "stdout",
          "output_type": "stream",
          "text": [
            "Model: \"sequential_8\"\n",
            "_________________________________________________________________\n",
            " Layer (type)                Output Shape              Param #   \n",
            "=================================================================\n",
            " mobilenet_1.00_224 (Functio  (None, 7, 7, 1024)       3228864   \n",
            " nal)                                                            \n",
            "                                                                 \n",
            " flatten_8 (Flatten)         (None, 50176)             0         \n",
            "                                                                 \n",
            " dense_32 (Dense)            (None, 128)               6422656   \n",
            "                                                                 \n",
            " dense_33 (Dense)            (None, 1)                 129       \n",
            "                                                                 \n",
            "=================================================================\n",
            "Total params: 9,651,649\n",
            "Trainable params: 6,422,785\n",
            "Non-trainable params: 3,228,864\n",
            "_________________________________________________________________\n"
          ]
        }
      ],
      "source": [
        "mobilenet.summary()"
      ]
    },
    {
      "cell_type": "code",
      "execution_count": 463,
      "metadata": {
        "id": "K9Vmwop-wxeR"
      },
      "outputs": [],
      "source": [
        "model.compile(optimizer='adam', loss='binary_crossentropy', metrics=['accuracy'])"
      ]
    },
    {
      "cell_type": "code",
      "execution_count": 464,
      "metadata": {
        "colab": {
          "base_uri": "https://localhost:8080/"
        },
        "id": "3OPbgyf_ERlQ",
        "outputId": "b5ed4e5b-0ee7-4a60-8db6-c21e12326d4c"
      },
      "outputs": [
        {
          "name": "stdout",
          "output_type": "stream",
          "text": [
            "Found 416 images belonging to 2 classes.\n",
            "Found 144 images belonging to 2 classes.\n"
          ]
        }
      ],
      "source": [
        "train_datagen = ImageDataGenerator(rescale=1./255,\n",
        "                                   shear_range=0.2,\n",
        "                                   zoom_range=0.2,\n",
        "                                   horizontal_flip=True)\n",
        "\n",
        "test_datagen = ImageDataGenerator(rescale=1./255)\n",
        "train_dir = train_path\n",
        "test_dir = test_path\n",
        "\n",
        "\n",
        "batch_size = 32\n",
        "image_size = (224, 224)\n",
        "\n",
        "train_generator = train_datagen.flow_from_directory(train_dir,\n",
        "                                                    target_size=image_size,\n",
        "                                                    batch_size=batch_size,\n",
        "                                                    class_mode='binary')\n",
        "\n",
        "\n",
        "test_generator = test_datagen.flow_from_directory(test_dir,\n",
        "                                                  target_size=image_size,\n",
        "                                                  batch_size=batch_size,\n",
        "                                                  class_mode='binary')\n"
      ]
    },
    {
      "cell_type": "code",
      "execution_count": 465,
      "metadata": {
        "colab": {
          "base_uri": "https://localhost:8080/"
        },
        "id": "Qy6TRCyVw6bA",
        "outputId": "8d9e3f87-d2de-4817-cc22-fa6688dda4e5"
      },
      "outputs": [
        {
          "name": "stdout",
          "output_type": "stream",
          "text": [
            "Epoch 1/10\n",
            "13/13 [==============================] - 12s 617ms/step - loss: 0.7205 - accuracy: 0.5601 - val_loss: 0.6777 - val_accuracy: 0.4306\n",
            "Epoch 2/10\n",
            "13/13 [==============================] - 6s 454ms/step - loss: 0.6885 - accuracy: 0.5312 - val_loss: 0.7905 - val_accuracy: 0.3472\n",
            "Epoch 3/10\n",
            "13/13 [==============================] - 7s 544ms/step - loss: 0.6611 - accuracy: 0.6154 - val_loss: 0.7605 - val_accuracy: 0.3611\n",
            "Epoch 4/10\n",
            "13/13 [==============================] - 6s 460ms/step - loss: 0.6708 - accuracy: 0.5721 - val_loss: 0.8274 - val_accuracy: 0.3472\n",
            "Epoch 5/10\n",
            "13/13 [==============================] - 7s 527ms/step - loss: 0.6601 - accuracy: 0.5793 - val_loss: 0.8358 - val_accuracy: 0.3472\n",
            "Epoch 6/10\n",
            "13/13 [==============================] - 6s 461ms/step - loss: 0.6766 - accuracy: 0.5793 - val_loss: 0.8487 - val_accuracy: 0.3472\n",
            "Epoch 7/10\n",
            "13/13 [==============================] - 7s 517ms/step - loss: 0.6757 - accuracy: 0.5553 - val_loss: 0.6445 - val_accuracy: 0.6319\n",
            "Epoch 8/10\n",
            "13/13 [==============================] - 6s 454ms/step - loss: 0.6646 - accuracy: 0.5601 - val_loss: 0.6471 - val_accuracy: 0.6042\n",
            "Epoch 9/10\n",
            "13/13 [==============================] - 6s 447ms/step - loss: 0.6648 - accuracy: 0.5553 - val_loss: 0.9082 - val_accuracy: 0.3472\n",
            "Epoch 10/10\n",
            "13/13 [==============================] - 6s 451ms/step - loss: 0.6915 - accuracy: 0.5409 - val_loss: 0.6209 - val_accuracy: 0.7500\n"
          ]
        }
      ],
      "source": [
        "result = model.fit(train_generator,\n",
        "          epochs=10,\n",
        "          validation_data=test_generator)"
      ]
    },
    {
      "cell_type": "code",
      "execution_count": 466,
      "metadata": {
        "colab": {
          "base_uri": "https://localhost:8080/",
          "height": 927
        },
        "id": "JBPfm3NHxWUs",
        "outputId": "fdd3b424-4bad-4dcd-94b6-ce8bafe55b21"
      },
      "outputs": [
        {
          "data": {
            "image/png": "[encoded data removed]",
            "text/plain": [
              "<Figure size 640x480 with 1 Axes>"
            ]
          },
          "metadata": {},
          "output_type": "display_data"
        },
        {
          "data": {
            "image/png": "[encoded data removed]",
            "text/plain": [
              "<Figure size 640x480 with 1 Axes>"
            ]
          },
          "metadata": {},
          "output_type": "display_data"
        }
      ],
      "source": [
        "plotLearningCurve(result,10)"
      ]
    },
    {
      "cell_type": "code",
      "execution_count": 467,
      "metadata": {
        "colab": {
          "base_uri": "https://localhost:8080/"
        },
        "id": "8xgfpaq_hiUX",
        "outputId": "5cd372e2-e87c-41ea-d811-73ee29ba9a8b"
      },
      "outputs": [
        {
          "name": "stdout",
          "output_type": "stream",
          "text": [
            "5/5 [==============================] - 2s 164ms/step\n"
          ]
        }
      ],
      "source": [
        "predict = model.predict(test_generator)\n",
        "preddict = predict > 0.5\n",
        "preddict = preddict.astype(int)\n",
        "predict_labels = preddict.flatten()"
      ]
    },
    {
      "cell_type": "code",
      "execution_count": 468,
      "metadata": {
        "colab": {
          "base_uri": "https://localhost:8080/"
        },
        "id": "kKVg-1K_iLUA",
        "outputId": "e9b5836a-4e9b-4a8d-eef5-484bc7d67ccc"
      },
      "outputs": [
        {
          "name": "stdout",
          "output_type": "stream",
          "text": [
            "              precision    recall  f1-score   support\n",
            "\n",
            "           0       0.70      0.64      0.67       101\n",
            "           1       0.29      0.35      0.32        43\n",
            "\n",
            "    accuracy                           0.56       144\n",
            "   macro avg       0.50      0.50      0.49       144\n",
            "weighted avg       0.58      0.56      0.57       144\n",
            "\n"
          ]
        }
      ],
      "source": [
        "print(classification_report(test_generator.classes,predict_labels))"
      ]
    },
    {
      "cell_type": "code",
      "execution_count": 469,
      "metadata": {
        "id": "RfXPUUjnhzsj"
      },
      "outputs": [],
      "source": [
        "\n",
        "prec_score = precision_score(test_generator.classes, predict_labels)\n",
        "preciss.append(prec_score)\n",
        "accuracy= accuracy_score(test_generator.classes, predict_labels)\n",
        "acc.append(accuracy)\n"
      ]
    },
    {
      "cell_type": "code",
      "execution_count": 470,
      "metadata": {
        "colab": {
          "base_uri": "https://localhost:8080/"
        },
        "id": "EqujVW84ye6D",
        "outputId": "d3ee7acc-4d53-4ce3-a3f7-5829294f5081"
      },
      "outputs": [
        {
          "name": "stdout",
          "output_type": "stream",
          "text": [
            "[0.2857142857142857, 0.4652777777777778, 0.2986111111111111, 0.5555555555555556]\n",
            "[0.16666666666666666, 0.2875, 0.2986111111111111, 0.29411764705882354]\n"
          ]
        }
      ],
      "source": [
        "print(acc)\n",
        "print(preciss)"
      ]
    },
    {
      "cell_type": "code",
      "execution_count": 471,
      "metadata": {
        "id": "gRU0oYJi9v68"
      },
      "outputs": [],
      "source": [
        "import pandas as pd\n",
        "df = pd.DataFrame({'Accuracy': acc, 'Precision': preciss})"
      ]
    },
    {
      "cell_type": "code",
      "execution_count": 472,
      "metadata": {
        "colab": {
          "base_uri": "https://localhost:8080/",
          "height": 174
        },
        "id": "F-O7O-xg9-SP",
        "outputId": "eeafbd32-9062-4939-da3a-0cbdbe16e64d"
      },
      "outputs": [
        {
          "data": {
            "text/html": [
              "\n",
              "  <div id=\"df-7f38e861-868f-47cb-a20d-13b3e625979d\">\n",
              "    <div class=\"colab-df-container\">\n",
              "      <div>\n",
              "<style scoped>\n",
              "    .dataframe tbody tr th:only-of-type {\n",
              "        vertical-align: middle;\n",
              "    }\n",
              "\n",
              "    .dataframe tbody tr th {\n",
              "        vertical-align: top;\n",
              "    }\n",
              "\n",
              "    .dataframe thead th {\n",
              "        text-align: right;\n",
              "    }\n",
              "</style>\n",
              "<table border=\"1\" class=\"dataframe\">\n",
              "  <thead>\n",
              "    <tr style=\"text-align: right;\">\n",
              "      <th></th>\n",
              "      <th>Accuracy</th>\n",
              "      <th>Precision</th>\n",
              "    </tr>\n",
              "  </thead>\n",
              "  <tbody>\n",
              "    <tr>\n",
              "      <th>0</th>\n",
              "      <td>0.285714</td>\n",
              "      <td>0.166667</td>\n",
              "    </tr>\n",
              "    <tr>\n",
              "      <th>1</th>\n",
              "      <td>0.465278</td>\n",
              "      <td>0.287500</td>\n",
              "    </tr>\n",
              "    <tr>\n",
              "      <th>2</th>\n",
              "      <td>0.298611</td>\n",
              "      <td>0.298611</td>\n",
              "    </tr>\n",
              "    <tr>\n",
              "      <th>3</th>\n",
              "      <td>0.555556</td>\n",
              "      <td>0.294118</td>\n",
              "    </tr>\n",
              "  </tbody>\n",
              "</table>\n",
              "</div>\n",
              "      <button class=\"colab-df-convert\" onclick=\"convertToInteractive('df-7f38e861-868f-47cb-a20d-13b3e625979d')\"\n",
              "              title=\"Convert this dataframe to an interactive table.\"\n",
              "              style=\"display:none;\">\n",
              "        \n",
              "  <svg xmlns=\"http://www.w3.org/2000/svg\" height=\"24px\"viewBox=\"0 0 24 24\"\n",
              "       width=\"24px\">\n",
              "    <path d=\"M0 0h24v24H0V0z\" fill=\"none\"/>\n",
              "    <path d=\"M18.56 5.44l.94 2.06.94-2.06 2.06-.94-2.06-.94-.94-2.06-.94 2.06-2.06.94zm-11 1L8.5 8.5l.94-2.06 2.06-.94-2.06-.94L8.5 2.5l-.94 2.06-2.06.94zm10 10l.94 2.06.94-2.06 2.06-.94-2.06-.94-.94-2.06-.94 2.06-2.06.94z\"/><path d=\"M17.41 7.96l-1.37-1.37c-.4-.4-.92-.59-1.43-.59-.52 0-1.04.2-1.43.59L10.3 9.45l-7.72 7.72c-.78.78-.78 2.05 0 2.83L4 21.41c.39.39.9.59 1.41.59.51 0 1.02-.2 1.41-.59l7.78-7.78 2.81-2.81c.8-.78.8-2.07 0-2.86zM5.41 20L4 18.59l7.72-7.72 1.47 1.35L5.41 20z\"/>\n",
              "  </svg>\n",
              "      </button>\n",
              "      \n",
              "  <style>\n",
              "    .colab-df-container {\n",
              "      display:flex;\n",
              "      flex-wrap:wrap;\n",
              "      gap: 12px;\n",
              "    }\n",
              "\n",
              "    .colab-df-convert {\n",
              "      background-color: #E8F0FE;\n",
              "      border: none;\n",
              "      border-radius: 50%;\n",
              "      cursor: pointer;\n",
              "      display: none;\n",
              "      fill: #1967D2;\n",
              "      height: 32px;\n",
              "      padding: 0 0 0 0;\n",
              "      width: 32px;\n",
              "    }\n",
              "\n",
              "    .colab-df-convert:hover {\n",
              "      background-color: #E2EBFA;\n",
              "      box-shadow: 0px 1px 2px rgba(60, 64, 67, 0.3), 0px 1px 3px 1px rgba(60, 64, 67, 0.15);\n",
              "      fill: #174EA6;\n",
              "    }\n",
              "\n",
              "    [theme=dark] .colab-df-convert {\n",
              "      background-color: #3B4455;\n",
              "      fill: #D2E3FC;\n",
              "    }\n",
              "\n",
              "    [theme=dark] .colab-df-convert:hover {\n",
              "      background-color: #434B5C;\n",
              "      box-shadow: 0px 1px 3px 1px rgba(0, 0, 0, 0.15);\n",
              "      filter: drop-shadow(0px 1px 2px rgba(0, 0, 0, 0.3));\n",
              "      fill: #FFFFFF;\n",
              "    }\n",
              "  </style>\n",
              "\n",
              "      <script>\n",
              "        const buttonEl =\n",
              "          document.querySelector('#df-7f38e861-868f-47cb-a20d-13b3e625979d button.colab-df-convert');\n",
              "        buttonEl.style.display =\n",
              "          google.colab.kernel.accessAllowed ? 'block' : 'none';\n",
              "\n",
              "        async function convertToInteractive(key) {\n",
              "          const element = document.querySelector('#df-7f38e861-868f-47cb-a20d-13b3e625979d');\n",
              "          const dataTable =\n",
              "            await google.colab.kernel.invokeFunction('convertToInteractive',\n",
              "                                                     [key], {});\n",
              "          if (!dataTable) return;\n",
              "\n",
              "          const docLinkHtml = 'Like what you see? Visit the ' +\n",
              "            '<a target=\"_blank\" href=https://colab.research.google.com/notebooks/data_table.ipynb>data table notebook</a>'\n",
              "            + ' to learn more about interactive tables.';\n",
              "          element.innerHTML = '';\n",
              "          dataTable['output_type'] = 'display_data';\n",
              "          await google.colab.output.renderOutput(dataTable, element);\n",
              "          const docLink = document.createElement('div');\n",
              "          docLink.innerHTML = docLinkHtml;\n",
              "          element.appendChild(docLink);\n",
              "        }\n",
              "      </script>\n",
              "    </div>\n",
              "  </div>\n",
              "  "
            ],
            "text/plain": [
              "   Accuracy  Precision\n",
              "0  0.285714   0.166667\n",
              "1  0.465278   0.287500\n",
              "2  0.298611   0.298611\n",
              "3  0.555556   0.294118"
            ]
          },
          "execution_count": 472,
          "metadata": {},
          "output_type": "execute_result"
        }
      ],
      "source": [
        "df"
      ]
    },
    {
      "cell_type": "code",
      "execution_count": 473,
      "metadata": {
        "colab": {
          "base_uri": "https://localhost:8080/",
          "height": 484
        },
        "id": "tv3-nNWR-LST",
        "outputId": "1f4fe27d-c72a-492f-83c6-d133f24d6e75"
      },
      "outputs": [
        {
          "data": {
            "text/plain": [
              "Text(0.5, 1.0, 'Accuracy and Precision Comparison')"
            ]
          },
          "execution_count": 473,
          "metadata": {},
          "output_type": "execute_result"
        },
        {
          "data": {
            "image/png": "[encoded data removed]",
            "text/plain": [
              "<Figure size 640x480 with 1 Axes>"
            ]
          },
          "metadata": {},
          "output_type": "display_data"
        }
      ],
      "source": [
        "df.plot(x=None, y=['Accuracy', 'Precision'], kind='bar')\n",
        "plt.xlabel('Models')\n",
        "plt.ylabel('Value')\n",
        "plt.title('Accuracy and Precision Comparison')"
      ]
    }
  ],
  "metadata": {
    "accelerator": "GPU",
    "colab": {
      "gpuType": "T4",
      "provenance": []
    },
    "gpuClass": "standard",
    "kernelspec": {
      "display_name": "Python 3",
      "name": "python3"
    },
    "language_info": {
      "name": "python"
    }
  },
  "nbformat": 4,
  "nbformat_minor": 0
}
